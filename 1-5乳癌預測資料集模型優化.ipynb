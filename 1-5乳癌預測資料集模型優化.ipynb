{
 "cells": [
  {
   "cell_type": "markdown",
   "metadata": {},
   "source": [
    "# 評估模型"
   ]
  },
  {
   "cell_type": "code",
   "execution_count": 1,
   "metadata": {},
   "outputs": [],
   "source": [
    "# 導入所需套件\n",
    "import pandas as pd\n",
    "import numpy as np\n",
    "from sklearn.preprocessing import LabelEncoder  #非數值欄位轉數值\n",
    "from sklearn.preprocessing import StandardScaler\n",
    "from sklearn.model_selection import train_test_split  #model_selection 做模型評估\n",
    "from sklearn.model_selection import KFold\n",
    "from sklearn.model_selection import RepeatedKFold\n",
    "from sklearn.model_selection import GridSearchCV\n",
    "from sklearn.model_selection import cross_val_score  #交叉驗證\n",
    "\n",
    "from sklearn.decomposition import PCA  #主成分分析\n",
    "from sklearn.linear_model import LogisticRegression\n",
    "from sklearn.pipeline import make_pipeline\n",
    "from sklearn.tree import DecisionTreeClassifier\n",
    "from sklearn.svm import SVC  #利用支持向量機進行分類"
   ]
  },
  {
   "cell_type": "code",
   "execution_count": 5,
   "metadata": {},
   "outputs": [
    {
     "data": {
      "text/html": [
       "<div>\n",
       "<style scoped>\n",
       "    .dataframe tbody tr th:only-of-type {\n",
       "        vertical-align: middle;\n",
       "    }\n",
       "\n",
       "    .dataframe tbody tr th {\n",
       "        vertical-align: top;\n",
       "    }\n",
       "\n",
       "    .dataframe thead th {\n",
       "        text-align: right;\n",
       "    }\n",
       "</style>\n",
       "<table border=\"1\" class=\"dataframe\">\n",
       "  <thead>\n",
       "    <tr style=\"text-align: right;\">\n",
       "      <th></th>\n",
       "      <th>0</th>\n",
       "      <th>1</th>\n",
       "      <th>2</th>\n",
       "      <th>3</th>\n",
       "      <th>4</th>\n",
       "      <th>5</th>\n",
       "      <th>6</th>\n",
       "      <th>7</th>\n",
       "      <th>8</th>\n",
       "      <th>9</th>\n",
       "      <th>...</th>\n",
       "      <th>22</th>\n",
       "      <th>23</th>\n",
       "      <th>24</th>\n",
       "      <th>25</th>\n",
       "      <th>26</th>\n",
       "      <th>27</th>\n",
       "      <th>28</th>\n",
       "      <th>29</th>\n",
       "      <th>30</th>\n",
       "      <th>31</th>\n",
       "    </tr>\n",
       "  </thead>\n",
       "  <tbody>\n",
       "    <tr>\n",
       "      <th>0</th>\n",
       "      <td>842302</td>\n",
       "      <td>M</td>\n",
       "      <td>17.99</td>\n",
       "      <td>10.38</td>\n",
       "      <td>122.80</td>\n",
       "      <td>1001.0</td>\n",
       "      <td>0.11840</td>\n",
       "      <td>0.27760</td>\n",
       "      <td>0.3001</td>\n",
       "      <td>0.14710</td>\n",
       "      <td>...</td>\n",
       "      <td>25.38</td>\n",
       "      <td>17.33</td>\n",
       "      <td>184.60</td>\n",
       "      <td>2019.0</td>\n",
       "      <td>0.1622</td>\n",
       "      <td>0.6656</td>\n",
       "      <td>0.7119</td>\n",
       "      <td>0.2654</td>\n",
       "      <td>0.4601</td>\n",
       "      <td>0.11890</td>\n",
       "    </tr>\n",
       "    <tr>\n",
       "      <th>1</th>\n",
       "      <td>842517</td>\n",
       "      <td>M</td>\n",
       "      <td>20.57</td>\n",
       "      <td>17.77</td>\n",
       "      <td>132.90</td>\n",
       "      <td>1326.0</td>\n",
       "      <td>0.08474</td>\n",
       "      <td>0.07864</td>\n",
       "      <td>0.0869</td>\n",
       "      <td>0.07017</td>\n",
       "      <td>...</td>\n",
       "      <td>24.99</td>\n",
       "      <td>23.41</td>\n",
       "      <td>158.80</td>\n",
       "      <td>1956.0</td>\n",
       "      <td>0.1238</td>\n",
       "      <td>0.1866</td>\n",
       "      <td>0.2416</td>\n",
       "      <td>0.1860</td>\n",
       "      <td>0.2750</td>\n",
       "      <td>0.08902</td>\n",
       "    </tr>\n",
       "    <tr>\n",
       "      <th>2</th>\n",
       "      <td>84300903</td>\n",
       "      <td>M</td>\n",
       "      <td>19.69</td>\n",
       "      <td>21.25</td>\n",
       "      <td>130.00</td>\n",
       "      <td>1203.0</td>\n",
       "      <td>0.10960</td>\n",
       "      <td>0.15990</td>\n",
       "      <td>0.1974</td>\n",
       "      <td>0.12790</td>\n",
       "      <td>...</td>\n",
       "      <td>23.57</td>\n",
       "      <td>25.53</td>\n",
       "      <td>152.50</td>\n",
       "      <td>1709.0</td>\n",
       "      <td>0.1444</td>\n",
       "      <td>0.4245</td>\n",
       "      <td>0.4504</td>\n",
       "      <td>0.2430</td>\n",
       "      <td>0.3613</td>\n",
       "      <td>0.08758</td>\n",
       "    </tr>\n",
       "    <tr>\n",
       "      <th>3</th>\n",
       "      <td>84348301</td>\n",
       "      <td>M</td>\n",
       "      <td>11.42</td>\n",
       "      <td>20.38</td>\n",
       "      <td>77.58</td>\n",
       "      <td>386.1</td>\n",
       "      <td>0.14250</td>\n",
       "      <td>0.28390</td>\n",
       "      <td>0.2414</td>\n",
       "      <td>0.10520</td>\n",
       "      <td>...</td>\n",
       "      <td>14.91</td>\n",
       "      <td>26.50</td>\n",
       "      <td>98.87</td>\n",
       "      <td>567.7</td>\n",
       "      <td>0.2098</td>\n",
       "      <td>0.8663</td>\n",
       "      <td>0.6869</td>\n",
       "      <td>0.2575</td>\n",
       "      <td>0.6638</td>\n",
       "      <td>0.17300</td>\n",
       "    </tr>\n",
       "    <tr>\n",
       "      <th>4</th>\n",
       "      <td>84358402</td>\n",
       "      <td>M</td>\n",
       "      <td>20.29</td>\n",
       "      <td>14.34</td>\n",
       "      <td>135.10</td>\n",
       "      <td>1297.0</td>\n",
       "      <td>0.10030</td>\n",
       "      <td>0.13280</td>\n",
       "      <td>0.1980</td>\n",
       "      <td>0.10430</td>\n",
       "      <td>...</td>\n",
       "      <td>22.54</td>\n",
       "      <td>16.67</td>\n",
       "      <td>152.20</td>\n",
       "      <td>1575.0</td>\n",
       "      <td>0.1374</td>\n",
       "      <td>0.2050</td>\n",
       "      <td>0.4000</td>\n",
       "      <td>0.1625</td>\n",
       "      <td>0.2364</td>\n",
       "      <td>0.07678</td>\n",
       "    </tr>\n",
       "  </tbody>\n",
       "</table>\n",
       "<p>5 rows × 32 columns</p>\n",
       "</div>"
      ],
      "text/plain": [
       "         0  1      2      3       4       5        6        7       8   \\\n",
       "0    842302  M  17.99  10.38  122.80  1001.0  0.11840  0.27760  0.3001   \n",
       "1    842517  M  20.57  17.77  132.90  1326.0  0.08474  0.07864  0.0869   \n",
       "2  84300903  M  19.69  21.25  130.00  1203.0  0.10960  0.15990  0.1974   \n",
       "3  84348301  M  11.42  20.38   77.58   386.1  0.14250  0.28390  0.2414   \n",
       "4  84358402  M  20.29  14.34  135.10  1297.0  0.10030  0.13280  0.1980   \n",
       "\n",
       "        9   ...     22     23      24      25      26      27      28      29  \\\n",
       "0  0.14710  ...  25.38  17.33  184.60  2019.0  0.1622  0.6656  0.7119  0.2654   \n",
       "1  0.07017  ...  24.99  23.41  158.80  1956.0  0.1238  0.1866  0.2416  0.1860   \n",
       "2  0.12790  ...  23.57  25.53  152.50  1709.0  0.1444  0.4245  0.4504  0.2430   \n",
       "3  0.10520  ...  14.91  26.50   98.87   567.7  0.2098  0.8663  0.6869  0.2575   \n",
       "4  0.10430  ...  22.54  16.67  152.20  1575.0  0.1374  0.2050  0.4000  0.1625   \n",
       "\n",
       "       30       31  \n",
       "0  0.4601  0.11890  \n",
       "1  0.2750  0.08902  \n",
       "2  0.3613  0.08758  \n",
       "3  0.6638  0.17300  \n",
       "4  0.2364  0.07678  \n",
       "\n",
       "[5 rows x 32 columns]"
      ]
     },
     "execution_count": 5,
     "metadata": {},
     "output_type": "execute_result"
    }
   ],
   "source": [
    "# 載入乳癌預測資料集\n",
    "df = pd.read_csv('wdbc.data', header=None)\n",
    "\n",
    "df.head()"
   ]
  },
  {
   "cell_type": "markdown",
   "metadata": {},
   "source": [
    "乳癌資料集有下列屬性：\n",
    "1）身份證號碼\n",
    "2）診斷（M =惡性，B =良性）\n",
    "\n",
    "為每個細胞核計算十個實值特徵：\n",
    "a）半徑（從中心到周長上的點的距離的平均值）\n",
    "b）紋理（灰度值的標準偏差）\n",
    "c）周長\n",
    "d）面積\n",
    "e）平滑度（半徑長度的局部變化）\n",
    "f）緊湊度（周長^ 2 /面積-1.0）\n",
    "g）凹度（輪廓凹部的嚴重程度）\n",
    "h）凹點（輪廓的凹部分的數量）\n",
    "i）對稱\n",
    "j）分形維數（“邊界線近似”-1）\n",
    "\n",
    "為每個圖像計算這些特徵的平均值，標準差和“最差”或最大（三個最大值的平均值），從而得到30個特徵。 例如，欄位3是平均半徑，欄位13是半徑標準差，欄位23是最差半徑。\n",
    "\n",
    "所有值都編碼成四位有效數字。"
   ]
  },
  {
   "cell_type": "code",
   "execution_count": 7,
   "metadata": {},
   "outputs": [
    {
     "data": {
      "text/plain": [
       "array(['B', 'M'], dtype=object)"
      ]
     },
     "execution_count": 7,
     "metadata": {},
     "output_type": "execute_result"
    }
   ],
   "source": [
    "# 將診斷欄位編碼成數值，以便處理\n",
    "X = df.loc[:, 2:].values\n",
    "y = df.loc[:, 1].values\n",
    "le = LabelEncoder()\n",
    "y = le.fit_transform(y)\n",
    "le.classes_"
   ]
  },
  {
   "cell_type": "code",
   "execution_count": 10,
   "metadata": {},
   "outputs": [
    {
     "data": {
      "text/plain": [
       "array([1, 0], dtype=int64)"
      ]
     },
     "execution_count": 10,
     "metadata": {},
     "output_type": "execute_result"
    }
   ],
   "source": [
    "# M =惡性/編碼成1，B =良性/編碼成0\n",
    "le.transform(['M', 'B'])"
   ]
  },
  {
   "cell_type": "code",
   "execution_count": 11,
   "metadata": {},
   "outputs": [],
   "source": [
    "# 分隔訓練資料集與測試資料集\n",
    "X_train, X_test, y_train, y_test = \\\n",
    "    train_test_split(X, y, \n",
    "                     test_size=0.20,\n",
    "                     stratify=y,\n",
    "                     random_state=1)"
   ]
  },
  {
   "cell_type": "markdown",
   "metadata": {},
   "source": [
    "### 建立管道\n",
    "\n",
    "![](images/06_01.png)"
   ]
  },
  {
   "cell_type": "code",
   "execution_count": 14,
   "metadata": {},
   "outputs": [
    {
     "data": {
      "text/plain": [
       "Pipeline(steps=[('standardscaler', StandardScaler()),\n",
       "                ('pca', PCA(n_components=2)),\n",
       "                ('logisticregression', LogisticRegression(random_state=1))])"
      ]
     },
     "execution_count": 14,
     "metadata": {},
     "output_type": "execute_result"
    }
   ],
   "source": [
    "# 建立管道與訓練模型\n",
    "pipe_lr = make_pipeline(StandardScaler(),  #第一步 標準化\n",
    "                        PCA(n_components=2),  #第二步 作主成分分析\n",
    "                        LogisticRegression(random_state=1, solver='lbfgs'))   #羅集思回歸(診斷結果非0則1)\n",
    "\n",
    "pipe_lr.fit(X_train, y_train)"
   ]
  },
  {
   "cell_type": "markdown",
   "metadata": {},
   "source": [
    "# 評估模型效能方式有下列："
   ]
  },
  {
   "cell_type": "markdown",
   "metadata": {},
   "source": [
    "## 留出法(The holdout method)\n",
    "\n",
    "留出一定比例的資料作為測試集。在剩餘的資料上訓練模型，然後在測試集上評估模型。如前所述，為了防止資訊洩露，你不能基於測試集來調節模型，所以還應該保留一個驗證集。留出驗證（hold-out validation）的示意圖\n",
    "\n",
    "![](images/06_02.png)"
   ]
  },
  {
   "cell_type": "code",
   "execution_count": 15,
   "metadata": {},
   "outputs": [
    {
     "name": "stdout",
     "output_type": "stream",
     "text": [
      "Test Accuracy: 0.956\n"
     ]
    }
   ],
   "source": [
    "# 留出法衡量測試資料集\n",
    "y_pred = pipe_lr.predict(X_test)\n",
    "print('Test Accuracy: %.3f' % pipe_lr.score(X_test, y_test))"
   ]
  },
  {
   "cell_type": "markdown",
   "metadata": {},
   "source": [
    "## K-折交叉驗證\n",
    "\n",
    "將訓練集分割成k個子樣本，一個單獨的子樣本被保留作為驗證模型的數據，其他k − 1個樣本用來訓練。交叉驗證重複k次，每個子樣本驗證一次，平均k次的結果或者使用其它結合方式，最終得到一個單一估測。這個方法的優勢在於，同時重複運用隨機產生的子樣本進行訓練和驗證，每次的結果驗證一次，10次交叉驗證是最常用的。\n",
    "\n",
    "![](images/06_03.png)"
   ]
  },
  {
   "cell_type": "code",
   "execution_count": 16,
   "metadata": {},
   "outputs": [
    {
     "name": "stdout",
     "output_type": "stream",
     "text": [
      "Fold:  1, Class dist.: [255 154], Acc: 0.935\n",
      "Fold:  2, Class dist.: [252 157], Acc: 0.935\n",
      "Fold:  3, Class dist.: [256 153], Acc: 0.978\n",
      "Fold:  4, Class dist.: [257 152], Acc: 0.957\n",
      "Fold:  5, Class dist.: [258 151], Acc: 0.935\n",
      "Fold:  6, Class dist.: [255 155], Acc: 0.933\n",
      "Fold:  7, Class dist.: [257 153], Acc: 0.978\n",
      "Fold:  8, Class dist.: [262 148], Acc: 0.933\n",
      "Fold:  9, Class dist.: [255 155], Acc: 0.956\n",
      "Fold: 10, Class dist.: [258 152], Acc: 0.956\n",
      "\n",
      "CV accuracy: 0.949 +/- 0.017\n"
     ]
    }
   ],
   "source": [
    "kfold = KFold(n_splits=10).split(X_train, y_train)\n",
    "\n",
    "scores = []\n",
    "for k, (train, test) in enumerate(kfold):\n",
    "    pipe_lr.fit(X_train[train], y_train[train])\n",
    "    score = pipe_lr.score(X_train[test], y_train[test])\n",
    "    scores.append(score)\n",
    "    print('Fold: %2d, Class dist.: %s, Acc: %.3f' % (k+1,\n",
    "          np.bincount(y_train[train]), score))\n",
    "    \n",
    "print('\\nCV accuracy: %.3f +/- %.3f' % (np.mean(scores), np.std(scores)))"
   ]
  },
  {
   "cell_type": "markdown",
   "metadata": {},
   "source": [
    "## 帶有打亂數據的重複K 折驗證\n",
    "\n",
    "多次使用K 折驗證，在每次將資料劃分為K 個分區之前都先將資料打亂。\n",
    "最終分數是每次K 折驗證分數的平均值。\n",
    "這種方法一共要訓練和評估P×K 個模型（P重複次數），計算代價很大。"
   ]
  },
  {
   "cell_type": "code",
   "execution_count": 17,
   "metadata": {},
   "outputs": [
    {
     "name": "stdout",
     "output_type": "stream",
     "text": [
      "Fold:  1, Class dist.: [254 155], Acc: 0.935\n",
      "Fold:  2, Class dist.: [257 152], Acc: 0.957\n",
      "Fold:  3, Class dist.: [252 157], Acc: 0.978\n",
      "Fold:  4, Class dist.: [253 156], Acc: 0.978\n",
      "Fold:  5, Class dist.: [260 149], Acc: 1.000\n",
      "Fold:  6, Class dist.: [257 153], Acc: 0.933\n",
      "Fold:  7, Class dist.: [258 152], Acc: 0.911\n",
      "Fold:  8, Class dist.: [259 151], Acc: 0.911\n",
      "Fold:  9, Class dist.: [255 155], Acc: 0.911\n",
      "Fold: 10, Class dist.: [260 150], Acc: 0.911\n",
      "Fold: 11, Class dist.: [258 151], Acc: 0.957\n",
      "Fold: 12, Class dist.: [253 156], Acc: 0.957\n",
      "Fold: 13, Class dist.: [250 159], Acc: 0.957\n",
      "Fold: 14, Class dist.: [253 156], Acc: 0.957\n",
      "Fold: 15, Class dist.: [258 151], Acc: 0.848\n",
      "Fold: 16, Class dist.: [261 149], Acc: 0.933\n",
      "Fold: 17, Class dist.: [259 151], Acc: 0.889\n",
      "Fold: 18, Class dist.: [259 151], Acc: 0.978\n",
      "Fold: 19, Class dist.: [256 154], Acc: 0.956\n",
      "Fold: 20, Class dist.: [258 152], Acc: 0.978\n",
      "Fold: 21, Class dist.: [257 152], Acc: 0.891\n",
      "Fold: 22, Class dist.: [259 150], Acc: 0.978\n",
      "Fold: 23, Class dist.: [256 153], Acc: 0.978\n",
      "Fold: 24, Class dist.: [257 152], Acc: 0.935\n",
      "Fold: 25, Class dist.: [258 151], Acc: 0.957\n",
      "Fold: 26, Class dist.: [257 153], Acc: 0.889\n",
      "Fold: 27, Class dist.: [256 154], Acc: 0.933\n",
      "Fold: 28, Class dist.: [255 155], Acc: 0.978\n",
      "Fold: 29, Class dist.: [259 151], Acc: 0.978\n",
      "Fold: 30, Class dist.: [251 159], Acc: 0.978\n",
      "Fold: 31, Class dist.: [254 155], Acc: 0.957\n",
      "Fold: 32, Class dist.: [263 146], Acc: 0.891\n",
      "Fold: 33, Class dist.: [259 150], Acc: 1.000\n",
      "Fold: 34, Class dist.: [254 155], Acc: 0.935\n",
      "Fold: 35, Class dist.: [258 151], Acc: 0.957\n",
      "Fold: 36, Class dist.: [255 155], Acc: 0.956\n",
      "Fold: 37, Class dist.: [259 151], Acc: 0.933\n",
      "Fold: 38, Class dist.: [254 156], Acc: 0.933\n",
      "Fold: 39, Class dist.: [253 157], Acc: 0.956\n",
      "Fold: 40, Class dist.: [256 154], Acc: 0.956\n",
      "Fold: 41, Class dist.: [263 146], Acc: 0.935\n",
      "Fold: 42, Class dist.: [257 152], Acc: 0.935\n",
      "Fold: 43, Class dist.: [257 152], Acc: 0.935\n",
      "Fold: 44, Class dist.: [260 149], Acc: 1.000\n",
      "Fold: 45, Class dist.: [252 157], Acc: 0.978\n",
      "Fold: 46, Class dist.: [252 158], Acc: 0.933\n",
      "Fold: 47, Class dist.: [256 154], Acc: 0.889\n",
      "Fold: 48, Class dist.: [253 157], Acc: 0.956\n",
      "Fold: 49, Class dist.: [257 153], Acc: 0.911\n",
      "Fold: 50, Class dist.: [258 152], Acc: 0.956\n",
      "Fold: 51, Class dist.: [259 150], Acc: 0.957\n",
      "Fold: 52, Class dist.: [257 152], Acc: 0.913\n",
      "Fold: 53, Class dist.: [253 156], Acc: 0.935\n",
      "Fold: 54, Class dist.: [259 150], Acc: 0.891\n",
      "Fold: 55, Class dist.: [254 155], Acc: 0.978\n",
      "Fold: 56, Class dist.: [255 155], Acc: 1.000\n",
      "Fold: 57, Class dist.: [255 155], Acc: 1.000\n",
      "Fold: 58, Class dist.: [262 148], Acc: 0.867\n",
      "Fold: 59, Class dist.: [255 155], Acc: 1.000\n",
      "Fold: 60, Class dist.: [256 154], Acc: 0.911\n",
      "Fold: 61, Class dist.: [260 149], Acc: 0.891\n",
      "Fold: 62, Class dist.: [250 159], Acc: 0.935\n",
      "Fold: 63, Class dist.: [252 157], Acc: 1.000\n",
      "Fold: 64, Class dist.: [251 158], Acc: 0.935\n",
      "Fold: 65, Class dist.: [264 145], Acc: 0.913\n",
      "Fold: 66, Class dist.: [257 153], Acc: 1.000\n",
      "Fold: 67, Class dist.: [258 152], Acc: 0.956\n",
      "Fold: 68, Class dist.: [260 150], Acc: 0.933\n",
      "Fold: 69, Class dist.: [257 153], Acc: 0.956\n",
      "Fold: 70, Class dist.: [256 154], Acc: 0.933\n",
      "Fold: 71, Class dist.: [257 152], Acc: 0.978\n",
      "Fold: 72, Class dist.: [253 156], Acc: 0.957\n",
      "Fold: 73, Class dist.: [258 151], Acc: 0.978\n",
      "Fold: 74, Class dist.: [255 154], Acc: 0.913\n",
      "Fold: 75, Class dist.: [259 150], Acc: 0.935\n",
      "Fold: 76, Class dist.: [253 157], Acc: 1.000\n",
      "Fold: 77, Class dist.: [252 158], Acc: 0.956\n",
      "Fold: 78, Class dist.: [261 149], Acc: 0.911\n",
      "Fold: 79, Class dist.: [254 156], Acc: 0.911\n",
      "Fold: 80, Class dist.: [263 147], Acc: 0.911\n",
      "Fold: 81, Class dist.: [263 146], Acc: 0.957\n",
      "Fold: 82, Class dist.: [254 155], Acc: 0.891\n",
      "Fold: 83, Class dist.: [256 153], Acc: 0.957\n",
      "Fold: 84, Class dist.: [259 150], Acc: 0.978\n",
      "Fold: 85, Class dist.: [255 154], Acc: 0.978\n",
      "Fold: 86, Class dist.: [255 155], Acc: 0.956\n",
      "Fold: 87, Class dist.: [256 154], Acc: 0.956\n",
      "Fold: 88, Class dist.: [256 154], Acc: 0.956\n",
      "Fold: 89, Class dist.: [253 157], Acc: 0.956\n",
      "Fold: 90, Class dist.: [258 152], Acc: 0.933\n",
      "Fold: 91, Class dist.: [255 154], Acc: 0.935\n",
      "Fold: 92, Class dist.: [260 149], Acc: 0.891\n",
      "Fold: 93, Class dist.: [261 148], Acc: 0.957\n",
      "Fold: 94, Class dist.: [256 153], Acc: 0.978\n",
      "Fold: 95, Class dist.: [253 156], Acc: 1.000\n",
      "Fold: 96, Class dist.: [259 151], Acc: 0.933\n",
      "Fold: 97, Class dist.: [256 154], Acc: 0.956\n",
      "Fold: 98, Class dist.: [255 155], Acc: 1.000\n",
      "Fold: 99, Class dist.: [255 155], Acc: 0.933\n",
      "Fold: 100, Class dist.: [255 155], Acc: 0.933\n",
      "\n",
      "CV accuracy: 0.946 +/- 0.034\n"
     ]
    }
   ],
   "source": [
    "kfold = RepeatedKFold(n_splits=10).split(X_train, y_train)\n",
    "\n",
    "scores = []\n",
    "for k, (train, test) in enumerate(kfold):\n",
    "    pipe_lr.fit(X_train[train], y_train[train])\n",
    "    score = pipe_lr.score(X_train[test], y_train[test])\n",
    "    scores.append(score)\n",
    "    print('Fold: %2d, Class dist.: %s, Acc: %.3f' % (k+1,\n",
    "          np.bincount(y_train[train]), score))\n",
    "    \n",
    "print('\\nCV accuracy: %.3f +/- %.3f' % (np.mean(scores), np.std(scores)))"
   ]
  },
  {
   "cell_type": "markdown",
   "metadata": {},
   "source": [
    "## 巢狀交叉驗證的演算法選擇\n",
    "\n",
    "巢狀交叉驗證分為外部迴圈和內部迴圈，在外部迴圈中，我們將資料分為訓練塊和測試塊。在內部迴圈中，我們將訓練塊分為訓練塊和驗證塊，在訓練塊上使用k折交叉驗證，測試塊用於對於模型進行評估，通過內部迴圈來進行模型選擇。\n",
    "\n",
    "![](images/06_07.png)"
   ]
  },
  {
   "cell_type": "code",
   "execution_count": 18,
   "metadata": {},
   "outputs": [
    {
     "name": "stdout",
     "output_type": "stream",
     "text": [
      "CV accuracy: 0.974 +/- 0.015\n"
     ]
    }
   ],
   "source": [
    "pipe_svc = make_pipeline(StandardScaler(),\n",
    "                         SVC(random_state=1))\n",
    "\n",
    "param_range = [0.0001, 0.001, 0.01, 0.1, 1.0, 10.0, 100.0, 1000.0]\n",
    "\n",
    "param_grid = [{'svc__C': param_range, \n",
    "               'svc__kernel': ['linear']},\n",
    "              {'svc__C': param_range, \n",
    "               'svc__gamma': param_range, \n",
    "               'svc__kernel': ['rbf']}]\n",
    "\n",
    "gs = GridSearchCV(estimator=pipe_svc,\n",
    "                  param_grid=param_grid,\n",
    "                  scoring='accuracy',\n",
    "                  cv=2)\n",
    "\n",
    "scores = cross_val_score(gs, X_train, y_train, \n",
    "                         scoring='accuracy', cv=5)\n",
    "print('CV accuracy: %.3f +/- %.3f' % (np.mean(scores),\n",
    "                                      np.std(scores)))"
   ]
  },
  {
   "cell_type": "code",
   "execution_count": 19,
   "metadata": {},
   "outputs": [
    {
     "name": "stdout",
     "output_type": "stream",
     "text": [
      "CV accuracy: 0.934 +/- 0.016\n"
     ]
    }
   ],
   "source": [
    "gs = GridSearchCV(estimator=DecisionTreeClassifier(random_state=0),\n",
    "                  param_grid=[{'max_depth': [1, 2, 3, 4, 5, 6, 7, None]}],\n",
    "                  scoring='accuracy',\n",
    "                  cv=2)\n",
    "\n",
    "scores = cross_val_score(gs, X_train, y_train, \n",
    "                         scoring='accuracy', cv=5)\n",
    "print('CV accuracy: %.3f +/- %.3f' % (np.mean(scores), \n",
    "                                      np.std(scores)))"
   ]
  },
  {
   "cell_type": "code",
   "execution_count": null,
   "metadata": {},
   "outputs": [],
   "source": []
  }
 ],
 "metadata": {
  "anaconda-cloud": {},
  "kernelspec": {
   "display_name": "Python 3",
   "language": "python",
   "name": "python3"
  },
  "language_info": {
   "codemirror_mode": {
    "name": "ipython",
    "version": 3
   },
   "file_extension": ".py",
   "mimetype": "text/x-python",
   "name": "python",
   "nbconvert_exporter": "python",
   "pygments_lexer": "ipython3",
   "version": "3.8.5"
  },
  "toc": {
   "nav_menu": {},
   "number_sections": true,
   "sideBar": true,
   "skip_h1_title": false,
   "title_cell": "Table of Contents",
   "title_sidebar": "Contents",
   "toc_cell": false,
   "toc_position": {},
   "toc_section_display": true,
   "toc_window_display": false
  }
 },
 "nbformat": 4,
 "nbformat_minor": 4
}
