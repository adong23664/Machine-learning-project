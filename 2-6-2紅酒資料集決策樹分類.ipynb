{
 "cells": [
  {
   "cell_type": "markdown",
   "metadata": {
    "id": "ZQWqLBSJ2Ey0"
   },
   "source": [
    "## 2-6-2_紅酒資料集決策樹分類\n",
    "（一）、設計說明：\n",
    "1. 請使用決策樹分類（Decision Tree Classifier），撰寫程式，讀取wine.csv，這個資料集統計紅酒的品質資料，此資料集包含下列欄位：\n",
    "欄位0（Target）：紅酒的分類（總共分為3類，分別為1~3）\n",
    "欄位1-13（Data）：各種紅酒中各項化學成分檢驗結果，包含：\n",
    "\n",
    "1) 酒精Alcohol\n",
    "2) 蘋果酸Malic acid\n",
    "3) 灰Ash\n",
    "4) 灰的鹼度Alcalinity of ash\n",
    "5) 鎂Magnesium\n",
    "6) 總酚Total phenols\n",
    "7) 類黃酮Flavanoids\n",
    "8) 黃酮類酚Nonflavanoid phenols\n",
    "9) 原花青素Proanthocyanins\n",
    "10) 色彩強度Color intensity\n",
    "11) 色調Hue\n",
    "12) 稀釋酒的OD280 / OD315OD280/OD315 of diluted wines\n",
    "13) 脯氨酸Proline\n",
    "\n",
    "2. 請將75%的資料做為訓練資料集，25%的資料用於測試資料集，random_state=5。\n",
    "3. 請用Data來預測Target的值。\n",
    "4. 請使用round函數計算至小數點第二位，印出所訓練分類器的準確度【xx.xx】%，並預測分類。\n",
    "\n",
    "\n",
    "（二）、請依序回答下列問題：\n",
    "1. 請填入分類器的準確度Accuracy of the classifier為多少%（不需填入%，計算至小數點後第二位）？\n",
    "2. 輸入資料[1.51, 1.73, 1.98, 20.15, 85, 2.2, 1.92, .32, 1.48, 2.94, 1, 3.57, 172]，請填入預測分類的選項？\n",
    "(A) 第1類   (B) 第2類   (C) 第3類   (D) 無法分類\n",
    "\n",
    "3. 輸入資料[14.23, 1.71, 2.43, 15.6, 127, 2.8, 3.06, .28, 2.29, 5.64, 1.04, 3.92, 1065]，請填入預測分類的選項？\n",
    "(A) 第1類   (B) 第2類   (C) 第3類   (D) 無法分類\n",
    "\n",
    "4. 輸入資料[13.71, 5.65, 2.45, 20.5, 95, 1.68, .61, .52, 1.06, 7.7, .64, 1.74, 720]，請填入預測分類的選項？\n",
    "(A) 第1類   (B) 第2類   (C) 第3類   (D) 無法分類\n",
    "\n"
   ]
  },
  {
   "cell_type": "code",
   "execution_count": 1,
   "metadata": {},
   "outputs": [],
   "source": [
    "# 導入需要套件\n",
    "import numpy as np\n",
    "from sklearn import model_selection\n",
    "from sklearn.tree import DecisionTreeClassifier"
   ]
  },
  {
   "cell_type": "code",
   "execution_count": 3,
   "metadata": {
    "id": "yF9uC-BY2Ey5"
   },
   "outputs": [],
   "source": [
    "# 載入紅酒資料集，建立Target y與特徵資料 X\n",
    "input_file = 'wine.csv'\n",
    "\n",
    "X = []\n",
    "y = []\n",
    "with open(input_file) as f:\n",
    "    for line in f.readlines():\n",
    "        data = [float(x) for x in line.split(',')]\n",
    "        X.append(data[1:])\n",
    "        y.append(data[0]) \n",
    "\n",
    "X = np.array(X)\n",
    "y = np.array(y)"
   ]
  },
  {
   "cell_type": "code",
   "execution_count": 4,
   "metadata": {
    "id": "Iu2MLj5q2Ey-"
   },
   "outputs": [],
   "source": [
    "# 分割訓練資料集與測試資料集\n",
    "X_train, X_test, y_train, y_test = model_selection.train_test_split(X, y, test_size=0.25, random_state=5)"
   ]
  },
  {
   "cell_type": "code",
   "execution_count": 5,
   "metadata": {
    "id": "UoAklwrn275T"
   },
   "outputs": [
    {
     "data": {
      "text/plain": [
       "array([1., 2., 1., 1., 3., 3., 1., 1., 2., 1., 1., 1., 3., 2., 3., 1., 2.,\n",
       "       1., 2., 1., 1., 1., 2., 2., 2., 2., 1., 3., 3., 1., 2., 2., 1., 1.,\n",
       "       3., 3., 1., 3., 3., 2., 2., 2., 3., 1., 3.])"
      ]
     },
     "execution_count": 5,
     "metadata": {},
     "output_type": "execute_result"
    }
   ],
   "source": [
    "y_test"
   ]
  },
  {
   "cell_type": "code",
   "execution_count": 6,
   "metadata": {
    "id": "s2KAD0x02EzE"
   },
   "outputs": [],
   "source": [
    "# 建立決策樹分類器，運用訓練資料集訓練分類器，接著預測測試資料集\n",
    "classifier_DecisionTree = DecisionTreeClassifier()\n",
    "classifier_DecisionTree.fit(X_train, y_train)\n",
    "y_test_pred = classifier_DecisionTree.predict(X_test)"
   ]
  },
  {
   "cell_type": "code",
   "execution_count": 7,
   "metadata": {
    "id": "fvoGlYHa2_kf"
   },
   "outputs": [
    {
     "data": {
      "text/plain": [
       "array([1., 2., 1., 1., 3., 3., 1., 1., 2., 2., 1., 1., 3., 2., 3., 1., 2.,\n",
       "       2., 2., 1., 1., 1., 2., 2., 2., 2., 1., 3., 3., 1., 2., 2., 1., 1.,\n",
       "       3., 3., 1., 3., 3., 1., 2., 3., 3., 1., 3.])"
      ]
     },
     "execution_count": 7,
     "metadata": {},
     "output_type": "execute_result"
    }
   ],
   "source": [
    "y_test_pred"
   ]
  },
  {
   "cell_type": "code",
   "execution_count": 8,
   "metadata": {
    "id": "bqWUJ9Dv2EzH"
   },
   "outputs": [
    {
     "name": "stdout",
     "output_type": "stream",
     "text": [
      "Accuracy of the classifier = 91.11 %\n",
      "[2.]\n",
      "[1.]\n",
      "[3.]\n"
     ]
    }
   ],
   "source": [
    "# 計算分類器的精確度\n",
    "accuracy = 100.0 * (y_test == y_test_pred).sum() / X_test.shape[0]\n",
    "print(\"Accuracy of the classifier =\", round(accuracy, 2), \"%\")\n",
    "\n",
    "# 輸入資料預測分類\n",
    "X_test1 =[[1.51, 1.73, 1.98, 20.15, 85, 2.2, 1.92, .32, 1.48, 2.94, 1, 3.57, 172]]\n",
    "X_test2 = [[14.23, 1.71, 2.43, 15.6, 127, 2.8, 3.06, .28, 2.29, 5.64, 1.04, 3.92, 1065]]\n",
    "X_test3 = [[13.71, 5.65, 2.45, 20.5, 95, 1.68, .61, .52, 1.06, 7.7, .64, 1.74, 720]]\n",
    "\n",
    "print(classifier_DecisionTree.predict(X_test1))\n",
    "print(classifier_DecisionTree.predict(X_test2))\n",
    "print(classifier_DecisionTree.predict(X_test3))"
   ]
  },
  {
   "cell_type": "code",
   "execution_count": 9,
   "metadata": {},
   "outputs": [
    {
     "name": "stdout",
     "output_type": "stream",
     "text": [
      "Accuracy of the classifier = 88.89 %\n"
     ]
    }
   ],
   "source": [
    "# 建立不同深度的決策樹分類器，運用訓練資料集訓練分類器，接著預測測試資料集\n",
    "classifier_DecisionTree = DecisionTreeClassifier(max_depth=2)\n",
    "classifier_DecisionTree.fit(X_train, y_train)\n",
    "y_test_pred = classifier_DecisionTree.predict(X_test)\n",
    "# 計算分類器的精確度\n",
    "accuracy = 100.0 * (y_test == y_test_pred).sum() / X_test.shape[0]\n",
    "print(\"Accuracy of the classifier =\", round(accuracy, 2), \"%\")"
   ]
  }
 ],
 "metadata": {
  "colab": {
   "collapsed_sections": [],
   "name": "05週2-4_101 紅酒種類預測1091012.ipynb",
   "provenance": [
    {
     "file_id": "1zFWnQHOeClJs_bvYlQvyUZQJv_gkVp8N",
     "timestamp": 1602473234082
    }
   ]
  },
  "kernelspec": {
   "display_name": "Python 3",
   "language": "python",
   "name": "python3"
  },
  "language_info": {
   "codemirror_mode": {
    "name": "ipython",
    "version": 3
   },
   "file_extension": ".py",
   "mimetype": "text/x-python",
   "name": "python",
   "nbconvert_exporter": "python",
   "pygments_lexer": "ipython3",
   "version": "3.8.5"
  }
 },
 "nbformat": 4,
 "nbformat_minor": 1
}
