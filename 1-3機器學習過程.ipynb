{
 "cells": [
  {
   "cell_type": "markdown",
   "metadata": {},
   "source": [
    "# 機器學習概念\n",
    "\n",
    "在機器學習的歷史上，一共出現了兩種定義。\n",
    "\n",
    "- 1956 年，開發了西洋跳棋AI 程序的Arthur Samuel 在標誌著人工智能學科誕生的達特茅斯會議上定義了“機器學習” 這個詞，定義為，“在沒有明確設置的情況下，使計算機具有學習能力的研究領域”。\n",
    "\n",
    "- 1997 年，Tom Mitchell 提供了一個更現代的定義：“如果用P 來測量程序在任務T 中性能。若一個程序通過利用經驗E 在T 任務中獲得了性能改善，則我們就說關於任務T和性能測量P ，該程序對經驗E 進行了學習。”\n",
    "\n",
    "\n",
    "例如：玩跳棋。\n",
    "\n",
    "E = 玩很多盤跳棋遊戲的經驗\n",
    "\n",
    "T = 玩跳棋的任務。\n",
    "\n",
    "P = 程序將贏得下一場比賽的概率。"
   ]
  },
  {
   "cell_type": "markdown",
   "metadata": {},
   "source": [
    "機器學習就是我們要學一個未知的函數\n",
    "\n",
    "$$f(x) = y$$\n",
    "\n",
    "如果是分類, 基本上就是有一筆資料 $x=(x_1, x_2, \\ldots, x_k)$, 我們想知道這\n",
    "\n",
    "$$f(x) = y$$,\n",
    "\n",
    "其中的 $y$ 就是某一個類別。\n",
    "\n",
    "做數據分析, 幾乎每一次都要讀入這些套件!"
   ]
  },
  {
   "cell_type": "code",
   "execution_count": 1,
   "metadata": {},
   "outputs": [],
   "source": [
    "%matplotlib inline\n",
    "\n",
    "import numpy as np  #資料分析\n",
    "import matplotlib.pyplot as plt  #畫圖\n",
    "import pandas as pd  #資料分析 讀檔\n",
    "\n",
    "# Jupyter Notebook 互動\n",
    "from ipywidgets import interact\n",
    "\n",
    "# 用 Seaborn 畫圖, 並設好圖的大小\n",
    "import seaborn as sns\n",
    "sns.set(rc={'figure.figsize':(16,12)})"
   ]
  },
  {
   "cell_type": "markdown",
   "metadata": {},
   "source": [
    "# 分類\n",
    "\n",
    "一般來說，機器學習問題都可以分到以下大類中的一個：\n",
    "\n",
    "1. 監督式學習(Supervised Learning)：我們教電腦去做某件事情\n",
    "    - 分類(Classification)\n",
    "        - 身份欺詐檢測(Identity fraud detection)\n",
    "        - 圖像分類(Image classification)\n",
    "        - 客戶保留(Customer retention)\n",
    "        - 診斷(Diagonostics)\n",
    "    - 迴歸(Regression)\n",
    "        - 廣告受歡迎度預測(Advertising popularity prediction)\n",
    "        - 天氣預報(Weather forecasting)\n",
    "        - 市場預測(Market forecasting)\n",
    "        - 估計預期壽命(Estimating life expectancy)\n",
    "        - 人口成長預估(Population growth prediction)\n",
    "2. 非監督式學習(Unsupervised Learning)：我們讓電腦自己學習\n",
    "    - 降維(Dimensionality reduction)\n",
    "        - 大數據可視化(Big data visualisation)\n",
    "        - 有意義的壓縮(Meaningful compression)\n",
    "        - 結構發現(Structure discovery)\n",
    "        - 特徵啟發(Feature Elicitation)\n",
    "    - 聚類(Clustering) \n",
    "        - 目標行銷(Targetted Marketing)\n",
    "        - 推薦系統(Recommender Systems)\n",
    "        - 顧客區隔(Customer Segmentation)\n",
    "3. 強化學習(Reinforcement Learning)：在環境給予的獎勵或懲罰的刺激下改變行為\n",
    "    - 即時決策(Real-time decisions)\n",
    "    - 遊戲AI(Game AI)\n",
    "    - 機器人導航(Robot Navigation)\n",
    "    - 技能習得(Skill Acquisition)\n",
    "    - 學習任務(Learning Tasks)\n"
   ]
  },
  {
   "cell_type": "markdown",
   "metadata": {},
   "source": [
    "## 1. 監督式學習(supervised learning)\n",
    "\n",
    "在監督式學習中，首先有一個數據集，並且已知正確的輸出是什麼，且輸入和輸出存在關聯。監督學習問題分為“迴歸 Regression”和“分類 Classification”問題。\n",
    "\n",
    "在迴歸問題中，我們試圖預測連續輸出中的結果，這意味著我們試圖將輸入變數映射到某個連續函數。例如給定一個人的某個資料，根據資料預測糖尿病發病情況，這就是一個迴歸的問題。\n",
    "\n",
    "\n",
    "<p align='center'>\n",
    "<img src='Linear_regression.svg'>\n",
    "</p>\n",
    "\n",
    "\n",
    "在分類問題中，我們試圖預測離散輸出中的結果。換句話說，我們試圖將輸入變量映射到離散類別中。例如給予患有腫瘤的患者，我們必須預測腫瘤是惡性的還是良性的。\n",
    "\n",
    "<p align='center'>\n",
    "<img src='Kernel_Machine.svg'>\n",
    "</p>"
   ]
  },
  {
   "cell_type": "code",
   "execution_count": 2,
   "metadata": {},
   "outputs": [
    {
     "name": "stdout",
     "output_type": "stream",
     "text": [
      "Automatically created module for IPython interactive environment\n"
     ]
    }
   ],
   "source": [
    "# 導入需要套件\n",
    "%matplotlib inline\n",
    "print(__doc__)\n",
    "\n",
    "import matplotlib.pyplot as plt\n",
    "import numpy as np\n",
    "from sklearn import datasets, linear_model  #導入資料集 導入線性回歸模型\n",
    "from sklearn.metrics import mean_squared_error, r2_score #mse 衡量結果是否成功  , r2_score 解釋模型是否完整"
   ]
  },
  {
   "cell_type": "code",
   "execution_count": 3,
   "metadata": {},
   "outputs": [],
   "source": [
    "# 載入糖尿病資料集\n",
    "diabetes_X, diabetes_y = datasets.load_diabetes(return_X_y=True)  #load diabetes 糖尿病資料集 要求x(特徵),y(目標) 都要有\n",
    "# 資料前處理               x給diabetes_X, y 給diabetes_y\n",
    "# 只使用其中一個特徵bmi(身體質量指數)\n",
    "diabetes_X = diabetes_X[:, np.newaxis, 2] \n",
    "\n",
    "# 分割特徵資料成訓練資料集與測試資料集\n",
    "diabetes_X_train = diabetes_X[:-20]  #從右邊數起20個\n",
    "diabetes_X_test = diabetes_X[-20:]\n",
    "# 分割目標資料成訓練資料集與測試資料集\n",
    "diabetes_y_train = diabetes_y[:-20]\n",
    "diabetes_y_test = diabetes_y[-20:]"
   ]
  },
  {
   "cell_type": "code",
   "execution_count": 5,
   "metadata": {},
   "outputs": [
    {
     "data": {
      "text/plain": [
       "LinearRegression()"
      ]
     },
     "execution_count": 5,
     "metadata": {},
     "output_type": "execute_result"
    }
   ],
   "source": [
    "# 建立線性迴歸模式\n",
    "regr = linear_model.LinearRegression()  #就是用一條直線來做回歸預測\n",
    "\n",
    "# 以訓練資料集訓練模式\n",
    "regr.fit(diabetes_X_train, diabetes_y_train)  #告訴訓練資料集該有的特徵x 與目標y\n",
    "\n",
    "# 訓練完成"
   ]
  },
  {
   "cell_type": "code",
   "execution_count": 7,
   "metadata": {},
   "outputs": [
    {
     "name": "stdout",
     "output_type": "stream",
     "text": [
      "Coefficients:  [938.23786125]\n",
      "Mean squared error: 2548.07\n",
      "Coefficient of determination: 0.47\n"
     ]
    }
   ],
   "source": [
    "# 以測試資料集預測\n",
    "diabetes_y_pred = regr.predict(diabetes_X_test)\n",
    "\n",
    "# 輸出迴歸係數\n",
    "print('Coefficients: ', regr.coef_)  # 就是直線的斜率 判斷正或負相關\n",
    "# 輸出均方差\n",
    "print('Mean squared error: %.2f'\n",
    "      % mean_squared_error(diabetes_y_test, diabetes_y_pred))\n",
    "# 輸出決定係數r2: 1 為完美解釋  # 越接近1越完美  0.47 代表不完美\n",
    "print('Coefficient of determination: %.2f'\n",
    "      % r2_score(diabetes_y_test, diabetes_y_pred))"
   ]
  },
  {
   "cell_type": "code",
   "execution_count": 9,
   "metadata": {},
   "outputs": [
    {
     "data": {
      "image/png": "[encoded data removed]",
      "text/plain": [
       "<Figure size 432x288 with 1 Axes>"
      ]
     },
     "metadata": {
      "needs_background": "light"
     },
     "output_type": "display_data"
    }
   ],
   "source": [
    "# 畫出視覺化展示圖形\n",
    "plt.scatter(diabetes_X_test, diabetes_y_test,  color='black')  # 真實資料\n",
    "plt.plot(diabetes_X_test, diabetes_y_pred, color='blue', linewidth=3)  #模型預測結果\n",
    "\n",
    "plt.xticks()\n",
    "plt.yticks()\n",
    "\n",
    "plt.show()"
   ]
  },
  {
   "cell_type": "markdown",
   "metadata": {},
   "source": [
    "## 2. 無監督式學習(unsupervised learning)\n",
    "\n",
    "無監督學習使我們能夠很少或根本不知道我們的結果應該是什麼樣子。我們可以從數據中得出結構，我們不一定知道變量的影響。我們可以通過基於數據中變數之間的關係對數據進行分群來推導出這種結構。在無監督學習的情況下，沒有基於預測結果的反饋。無監督學習可以分為“分群”和“降維”。\n",
    "\n",
    "分群(clustering)：獲取1,000,000個不同基因的集合，並找到一種方法將這些基因自動分組成不同變數的相似或相關的組，例如壽命，位置，角色等。\n",
    "\n",
    "\n",
    "<p align='center'>\n",
    "<img src='KMeans-Gaussian-data.svg'>\n",
    "</p>\n",
    "\n",
    "\n",
    "降維：在某些限定條件下，降低隨機變數個數，得到一組「不相關」主變數的過程。"
   ]
  },
  {
   "cell_type": "markdown",
   "metadata": {},
   "source": [
    "## K-Means 會自動分類！\n",
    "\n",
    "我們介紹一個很好用的 unsupervised learning, 叫 K-Means。我們可以指定把我們資料分成幾類, 然後它就會快速分好!\n",
    "#### 隨便生個 100 點"
   ]
  },
  {
   "cell_type": "code",
   "execution_count": 12,
   "metadata": {},
   "outputs": [
    {
     "data": {
      "text/plain": [
       "<matplotlib.collections.PathCollection at 0x1d3ef616f40>"
      ]
     },
     "execution_count": 12,
     "metadata": {},
     "output_type": "execute_result"
    },
    {
     "data": {
      "image/png": "[encoded data removed]",
      "text/plain": [
       "<Figure size 432x288 with 1 Axes>"
      ]
     },
     "metadata": {
      "needs_background": "light"
     },
     "output_type": "display_data"
    }
   ],
   "source": [
    "x = np.random.rand(100,2)\n",
    "plt.scatter(x[:,0], x[:,1], cmap='Paired')"
   ]
  },
  {
   "cell_type": "markdown",
   "metadata": {},
   "source": [
    "#### step 1. 製做一個 K-Means 分類器\n",
    "記得要告訴 K-Means 要分成幾類 (我們這裡是 3 類)。"
   ]
  },
  {
   "cell_type": "code",
   "execution_count": 13,
   "metadata": {},
   "outputs": [],
   "source": [
    "from sklearn.cluster import KMeans\n",
    "clf = KMeans(n_clusters=3)"
   ]
  },
  {
   "cell_type": "markdown",
   "metadata": {},
   "source": [
    "#### step 2. fit 學習、訓練\n",
    "\n",
    "注意這時沒有「正確答案」。"
   ]
  },
  {
   "cell_type": "code",
   "execution_count": 14,
   "metadata": {},
   "outputs": [
    {
     "data": {
      "text/plain": [
       "KMeans(n_clusters=3)"
      ]
     },
     "execution_count": 14,
     "metadata": {},
     "output_type": "execute_result"
    }
   ],
   "source": [
    "clf.fit(x)  #不會有y 因為不知道y是什麼"
   ]
  },
  {
   "cell_type": "markdown",
   "metadata": {},
   "source": [
    "#### step 3. predict\n",
    "\n",
    "分類好的其實已經放在神秘的 `label_` 了。"
   ]
  },
  {
   "cell_type": "code",
   "execution_count": 15,
   "metadata": {},
   "outputs": [
    {
     "data": {
      "text/plain": [
       "array([2, 1, 1, 1, 2, 2, 1, 2, 2, 2, 1, 0, 1, 2, 2, 1, 2, 1, 1, 2, 2, 2,\n",
       "       2, 1, 2, 0, 2, 0, 1, 0, 1, 2, 2, 0, 2, 0, 0, 0, 0, 1, 2, 1, 2, 2,\n",
       "       0, 0, 2, 1, 0, 2, 0, 2, 0, 2, 0, 2, 1, 2, 2, 1, 0, 1, 0, 0, 0, 0,\n",
       "       1, 0, 1, 1, 2, 0, 2, 2, 0, 0, 0, 2, 2, 0, 0, 2, 2, 1, 1, 0, 2, 2,\n",
       "       2, 1, 1, 0, 0, 2, 0, 2, 0, 0, 2, 1])"
      ]
     },
     "execution_count": 15,
     "metadata": {},
     "output_type": "execute_result"
    }
   ],
   "source": [
    "clf.labels_"
   ]
  },
  {
   "cell_type": "markdown",
   "metadata": {},
   "source": [
    "當然我們還是有 `predict`, 所以也可以用 `predict`算。"
   ]
  },
  {
   "cell_type": "code",
   "execution_count": 16,
   "metadata": {},
   "outputs": [
    {
     "data": {
      "text/plain": [
       "array([2, 1, 1, 1, 2, 2, 1, 2, 2, 2, 1, 0, 1, 2, 2, 1, 2, 1, 1, 2, 2, 2,\n",
       "       2, 1, 2, 0, 2, 0, 1, 0, 1, 2, 2, 0, 2, 0, 0, 0, 0, 1, 2, 1, 2, 2,\n",
       "       0, 0, 2, 1, 0, 2, 0, 2, 0, 2, 0, 2, 1, 2, 2, 1, 0, 1, 0, 0, 0, 0,\n",
       "       1, 0, 1, 1, 2, 0, 2, 2, 0, 0, 0, 2, 2, 0, 0, 2, 2, 1, 1, 0, 2, 2,\n",
       "       2, 1, 1, 0, 0, 2, 0, 2, 0, 0, 2, 1])"
      ]
     },
     "execution_count": 16,
     "metadata": {},
     "output_type": "execute_result"
    }
   ],
   "source": [
    "clf.predict(x)"
   ]
  },
  {
   "cell_type": "markdown",
   "metadata": {},
   "source": [
    "用圖來看看分得怎麼樣。"
   ]
  },
  {
   "cell_type": "code",
   "execution_count": 17,
   "metadata": {},
   "outputs": [
    {
     "data": {
      "text/plain": [
       "<matplotlib.collections.PathCollection at 0x1d3ef67d3d0>"
      ]
     },
     "execution_count": 17,
     "metadata": {},
     "output_type": "execute_result"
    },
    {
     "data": {
      "image/png": "[encoded data removed]",
      "text/plain": [
       "<Figure size 432x288 with 1 Axes>"
      ]
     },
     "metadata": {
      "needs_background": "light"
     },
     "output_type": "display_data"
    }
   ],
   "source": [
    "plt.scatter(x[:,0], x[:,1], c=clf.labels_, cmap='Paired')"
   ]
  },
  {
   "cell_type": "markdown",
   "metadata": {},
   "source": [
    "來看看我們最愛的呈現方式..."
   ]
  },
  {
   "cell_type": "code",
   "execution_count": 18,
   "metadata": {},
   "outputs": [
    {
     "data": {
      "text/plain": [
       "<matplotlib.collections.PathCollection at 0x1d3ef67d7f0>"
      ]
     },
     "execution_count": 18,
     "metadata": {},
     "output_type": "execute_result"
    },
    {
     "data": {
      "image/png": "[encoded data removed]",
      "text/plain": [
       "<Figure size 432x288 with 1 Axes>"
      ]
     },
     "metadata": {
      "needs_background": "light"
     },
     "output_type": "display_data"
    }
   ],
   "source": [
    "x0 = y0 = np.arange(-0.2, 1.2, 0.02)\n",
    "xm, ym = np.meshgrid(x0, y0)\n",
    "\n",
    "P = np.c_[xm.ravel(), ym.ravel()]\n",
    "z = clf.predict(P)\n",
    "Z = z.reshape(xm.shape)\n",
    "plt.contourf(xm, ym, Z, alpha=0.3)\n",
    "plt.scatter(x[:,0], x[:,1], c=clf.labels_)"
   ]
  },
  {
   "cell_type": "code",
   "execution_count": null,
   "metadata": {},
   "outputs": [],
   "source": []
  }
 ],
 "metadata": {
  "kernelspec": {
   "display_name": "Python 3",
   "language": "python",
   "name": "python3"
  },
  "language_info": {
   "codemirror_mode": {
    "name": "ipython",
    "version": 3
   },
   "file_extension": ".py",
   "mimetype": "text/x-python",
   "name": "python",
   "nbconvert_exporter": "python",
   "pygments_lexer": "ipython3",
   "version": "3.8.5"
  }
 },
 "nbformat": 4,
 "nbformat_minor": 2
}
