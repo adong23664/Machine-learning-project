{
 "cells": [
  {
   "cell_type": "markdown",
   "metadata": {},
   "source": [
    "## 作業1-1「資料前處理」\n",
    "### 設計說明：\n",
    "1. 著名的鐵達尼號乘客資料是一份公開資訊，我們使用邏輯迴歸進行鐵達尼號的生存預測。\n",
    "2. 請撰寫程式，讀取titanic.csv；其中年齡（Age）欄位的NA值，請以年齡的中位數代入。\n",
    "3. 使用乘客等級（PClass）、年齡（Age）和性別碼（SexCode）三個欄位的資料來訓練邏輯迴歸預測模型。\n",
    "\n",
    "### 請依序回答下列問題：\n",
    "1. 請填入年齡的中位數（取至整數）？\n",
    "2. 請填入此模型的截距（intercept_）（四捨五入取至小數點後第四位）？\n",
    "3. 請填入此模型中，性別碼（SexCode）的迴歸係數（四捨五入取至小數點後第四位）？\n",
    "4. 請填入此預測模型的準確度（四捨五入取至小數點後第四位）？"
   ]
  },
  {
   "cell_type": "code",
   "execution_count": 12,
   "metadata": {},
   "outputs": [
    {
     "name": "stdout",
     "output_type": "stream",
     "text": [
      "raw data\n",
      "年齡中位數= nan\n",
      "\n",
      "年齡中位數= 28.0\n",
      "\n",
      "new data\n",
      "<class 'pandas.core.frame.DataFrame'>\n",
      "RangeIndex: 1313 entries, 0 to 1312\n",
      "Data columns (total 7 columns):\n",
      " #   Column       Non-Null Count  Dtype  \n",
      "---  ------       --------------  -----  \n",
      " 0   PassengerId  1313 non-null   int64  \n",
      " 1   Name         1313 non-null   object \n",
      " 2   PClass       1313 non-null   object \n",
      " 3   Age          1313 non-null   float64\n",
      " 4   Sex          1313 non-null   object \n",
      " 5   Survived     1313 non-null   int64  \n",
      " 6   SexCode      1313 non-null   int64  \n",
      "dtypes: float64(1), int64(3), object(3)\n",
      "memory usage: 71.9+ KB\n",
      "\n",
      "Confusion Matrix\n",
      "Survived    0    1\n",
      "row_0             \n",
      "0         840  222\n",
      "1          23  228\n",
      "0.8134044173648134\n"
     ]
    }
   ],
   "source": [
    "import pandas as pd\n",
    "import numpy as np\n",
    "from sklearn import preprocessing, linear_model\n",
    "\n",
    "# 原始資料\n",
    "titanic = pd.read_csv(\"titanic.csv\")\n",
    "print('raw data')\n",
    "\n",
    "# 將年齡的空值填入年齡的中位數\n",
    "\n",
    "age_median = np.median(titanic[\"Age\"])\n",
    "print(\"年齡中位數=\",age_median)\n",
    "\n",
    "age_median = np.nanmedian(titanic[\"Age\"])\n",
    "print()\n",
    "print(\"年齡中位數=\", age_median)\n",
    "print()\n",
    "new_age = np.where(titanic[\"Age\"].isnull(), age_median, titanic[\"Age\"])\n",
    "titanic[\"Age\"] = new_age\n",
    "\n",
    "# 更新年齡後資料\n",
    "print('new data')\n",
    "titanic.info()\n",
    "print()\n",
    "\n",
    "# 轉換PClass欄位值成為數值，改用編碼後的乘客等級和性別碼來預測\n",
    "label_encoder = preprocessing.LabelEncoder()\n",
    "encoded_class = label_encoder.fit_transform(titanic[\"PClass\"])\n",
    "# X = pd.DataFrame([encoded_class, titanic[\"SexCode\"], titanic[\"Age\"]]).T\n",
    "X = pd.DataFrame([encoded_class, titanic[\"SexCode\"]]).T\n",
    "y = titanic[\"Survived\"]\n",
    "# 建立與訓練模型\n",
    "logistic = linear_model.LogisticRegression()\n",
    "logistic.fit(X, y)\n",
    "# 求混淆矩陣(Confusion Matrix)，計算準確度\n",
    "print('Confusion Matrix')\n",
    "preds = logistic.predict(X)\n",
    "print(pd.crosstab(preds, titanic[\"Survived\"]))\n",
    "print(logistic.score(X, y))"
   ]
  }
 ],
 "metadata": {
  "kernelspec": {
   "display_name": "Python 3",
   "language": "python",
   "name": "python3"
  },
  "language_info": {
   "codemirror_mode": {
    "name": "ipython",
    "version": 3
   },
   "file_extension": ".py",
   "mimetype": "text/x-python",
   "name": "python",
   "nbconvert_exporter": "python",
   "pygments_lexer": "ipython3",
   "version": "3.8.5"
  }
 },
 "nbformat": 4,
 "nbformat_minor": 2
}
