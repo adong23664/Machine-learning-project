{
 "cells": [
  {
   "cell_type": "markdown",
   "metadata": {},
   "source": [
    "## 波士頓房價資料集\n",
    "\n",
    "\n",
    "欄位名稱\t|說明\n",
    " :------| :------\n",
    "CRIM\t|按城鎮劃分的人均犯罪率\n",
    "ZN\t|超過25,000平方英尺的土地劃為住宅用地的比例\n",
    "INDUS\t|城鎮非零售商用土地的比例\n",
    "CHAS\t|Charles River虛擬變數（如果靠近河流，則為1；否則為0）\n",
    "NOX\t|一氧化氮濃度（以百萬分之幾為單位）\n",
    "RM\t|每個住宅的平均房間數\n",
    "AGE\t|1940年之前建造自有單位的比例\n",
    "DIS\t|到五個波士頓就業中心的加權距離\n",
    "RAD\t|徑向公路的可達性指數\n",
    "TAX\t|每10,000美元的全值財產稅率\n",
    "PTRATIO\t|城鎮的師生比例\n",
    "B\t|1000(Bk-0.63)^ 2，其中Bk是按城鎮劃分的黑人比例\n",
    "LSTAT\t|低階人口狀況百分比\n",
    "MEDV\t|自有住房的中位數價格（單位為1000美元）"
   ]
  },
  {
   "cell_type": "code",
   "execution_count": 2,
   "metadata": {},
   "outputs": [],
   "source": [
    "# 載入資料集\n",
    "import pandas as pd\n",
    "import numpy as np\n",
    "from sklearn.datasets import load_boston\n",
    "boston = load_boston()"
   ]
  },
  {
   "cell_type": "code",
   "execution_count": 3,
   "metadata": {},
   "outputs": [
    {
     "name": "stdout",
     "output_type": "stream",
     "text": [
      "Model A\n",
      "MAE: 3.7507\n",
      "RMSE: 4.8354\n"
     ]
    }
   ],
   "source": [
    "# 處理特徵向量與目標向量\n",
    "df = pd.DataFrame(boston.data.T, ['CRIM','ZN','INDUS','CHAS','NOX','RM' ,\n",
    "                                  'AGE','DIS','RAD','TAX', 'PTRATIO','B',\n",
    "                                  'LSTAT']) #有13個feature\n",
    "df = df.T\n",
    "df['MEDV'] = boston.target.T  # MEDV即預測目標向量\n",
    "X = df[['CRIM','ZN','INDUS','CHAS','NOX','RM' ,'AGE','DIS','RAD',\n",
    "        'TAX', 'PTRATIO','B','LSTAT']]\n",
    "y = df['MEDV']\n",
    "# 分割訓練資料集與測試資料集\n",
    "from sklearn.model_selection import train_test_split\n",
    "X_train, X_test, y_train, y_test = train_test_split(X, y, \n",
    "                                    test_size = 0.2,random_state=1)\n",
    "# 建立與訓練線性迴歸模式\n",
    "from sklearn.linear_model import LinearRegression\n",
    "lm = LinearRegression()\n",
    "lm.fit(X_train,y_train) #Fit linear model 配適線性模型\n",
    "# 計算預測效能\n",
    "predictions = lm.predict(X_test)\n",
    "from sklearn import metrics\n",
    "print(\"Model A\")\n",
    "print('MAE:', \"%.4f\" % metrics.mean_absolute_error(y_test, predictions))\n",
    "# print('MSE:', \"%.4f\" % metrics.mean_squared_error(y_test, predictions))\n",
    "print('RMSE:', \"%.4f\" % np.sqrt(metrics.mean_squared_error(y_test, \n",
    "                                                           predictions)))"
   ]
  },
  {
   "cell_type": "code",
   "execution_count": 4,
   "metadata": {},
   "outputs": [
    {
     "name": "stdout",
     "output_type": "stream",
     "text": [
      "Model B\n",
      "MAE: 5.0784\n",
      "RMSE: 6.8485\n"
     ]
    }
   ],
   "source": [
    "# 處理特徵向量與目標向量\n",
    "df = pd.DataFrame(boston.data.T, ['CRIM','ZN','INDUS','CHAS','NOX','RM' ,\n",
    "                                  'AGE','DIS','RAD','TAX', 'PTRATIO','B',\n",
    "                                  'LSTAT']) #有13個feature\n",
    "df = df.T\n",
    "df['MEDV'] = boston.target.T  # MEDV即預測目標向量\n",
    "X = df[['CRIM','LSTAT']]\n",
    "y = df['MEDV']\n",
    "# 分割訓練資料集與測試資料集\n",
    "from sklearn.model_selection import train_test_split\n",
    "X_train, X_test, y_train, y_test = train_test_split(X, y, test_size = 0.2,\n",
    "                                                    random_state=1)\n",
    "# 建立與訓練線性迴歸模式\n",
    "from sklearn.linear_model import LinearRegression\n",
    "lm = LinearRegression()\n",
    "lm.fit(X_train,y_train) #Fit linear model 配適線性模型\n",
    "# 計算預測效能\n",
    "predictions = lm.predict(X_test)\n",
    "from sklearn import metrics\n",
    "print(\"Model B\")\n",
    "print('MAE:', \"%.4f\" % metrics.mean_absolute_error(y_test, predictions))\n",
    "# print('MSE:', \"%.4f\" % metrics.mean_squared_error(y_test, predictions))\n",
    "print('RMSE:', \"%.4f\" % np.sqrt(metrics.mean_squared_error(y_test, \n",
    "                                                           predictions)))"
   ]
  },
  {
   "cell_type": "markdown",
   "metadata": {},
   "source": [
    "### Model A 特徵值較多，訓練出來的模型更加準確"
   ]
  },
  {
   "cell_type": "code",
   "execution_count": null,
   "metadata": {},
   "outputs": [],
   "source": []
  }
 ],
 "metadata": {
  "kernelspec": {
   "display_name": "Python 3",
   "language": "python",
   "name": "python3"
  },
  "language_info": {
   "codemirror_mode": {
    "name": "ipython",
    "version": 3
   },
   "file_extension": ".py",
   "mimetype": "text/x-python",
   "name": "python",
   "nbconvert_exporter": "python",
   "pygments_lexer": "ipython3",
   "version": "3.8.5"
  }
 },
 "nbformat": 4,
 "nbformat_minor": 2
}
