{
 "cells": [
  {
   "cell_type": "code",
   "execution_count": 1,
   "metadata": {},
   "outputs": [],
   "source": [
    "# 參數設定與導入需要套件\n",
    "seed = 0    # 亂數種子數\n",
    "import warnings\n",
    "warnings.filterwarnings('ignore')\n",
    "\n",
    "import numpy as np\n",
    "from sklearn.datasets import load_digits\n",
    "from sklearn.preprocessing import scale\n",
    "from sklearn.preprocessing import StandardScaler\n",
    "from sklearn.cluster import KMeans\n",
    "from sklearn.decomposition import PCA\n",
    "from sklearn.metrics import silhouette_score\n",
    "from sklearn.metrics import accuracy_score"
   ]
  },
  {
   "cell_type": "code",
   "execution_count": 2,
   "metadata": {},
   "outputs": [
    {
     "name": "stdout",
     "output_type": "stream",
     "text": [
      "n_digits: 10, n_samples: 1797, n_features: 64\n"
     ]
    }
   ],
   "source": [
    "# 載入手寫數字資料集\n",
    "X_digits, y_digits = load_digits(return_X_y=True)  #數值特徵  數字類別\n",
    "\n",
    "# 特徵標準化(scale/StandardScaler)\n",
    "data = scale(X_digits)\n",
    "\n",
    "# 取出資料集的數字類別數\n",
    "n_digits = len(np.unique(y_digits))\n",
    "n_samples, n_features = data.shape\n",
    "\n",
    "print(\"n_digits: %d, n_samples: %d, n_features: %d\"\n",
    "      % (n_digits, n_samples, n_features))"
   ]
  },
  {
   "cell_type": "code",
   "execution_count": 3,
   "metadata": {},
   "outputs": [
    {
     "name": "stdout",
     "output_type": "stream",
     "text": [
      "PCA(n_components=1)+KMeans Silhouette=0.0005 Accuracy=0.1041\n",
      "PCA(n_components=2)+KMeans Silhouette=0.0599 Accuracy=0.1441\n",
      "PCA(n_components=3)+KMeans Silhouette=0.0973 Accuracy=0.0139\n",
      "PCA(n_components=4)+KMeans Silhouette=0.1226 Accuracy=0.0334\n",
      "PCA(n_components=5)+KMeans Silhouette=0.1269 Accuracy=0.0050\n",
      "PCA(n_components=6)+KMeans Silhouette=0.1278 Accuracy=0.2014\n",
      "PCA(n_components=7)+KMeans Silhouette=0.1271 Accuracy=0.0412\n",
      "PCA(n_components=8)+KMeans Silhouette=0.1407 Accuracy=0.0089\n",
      "PCA(n_components=9)+KMeans Silhouette=0.1460 Accuracy=0.0551\n",
      "PCA(n_components=10)+KMeans Silhouette=0.1449 Accuracy=0.0723\n"
     ]
    }
   ],
   "source": [
    "# 進行 PCA 降維後再做 K-Means，除以下參數設定外，其餘為預設值\n",
    "# kmeans: init='k-means++', n_clusters=n_digits, n_init=10, random_state=seed\n",
    "# PCA: n_components=(1~10), random_state=seed\n",
    "kmeans = KMeans(init='k-means++', n_clusters=n_digits, n_init=10, \n",
    "                random_state=seed)\n",
    "for i in range(1,11):\n",
    "    reduced_data = PCA(n_components=i, random_state=seed).fit_transform(data)\n",
    "    kmeans.fit(reduced_data)\n",
    "    print('PCA(n_components=%d)+KMeans Silhouette=%.4f' % (i,silhouette_score(data, \n",
    "                                                            kmeans.labels_, \n",
    "                                                            metric='euclidean')), \n",
    "                                                            end='')\n",
    "    print(' Accuracy=%.4f' % accuracy_score(y_digits, kmeans.labels_))"
   ]
  },
  {
   "cell_type": "markdown",
   "metadata": {},
   "source": [
    "##### 請填入n_components參數是多少時模型的輪廓係數為最大?請填入此時模型的輪廓係數？\n",
    "##### n_components=10, Silhouette=0.1449\n",
    "\n",
    "##### 請填入n_components參數是多少時模型的準確率為最大?請填入此時模型的準確率（四捨五入取至小數點後第四位）？\n",
    "##### n_components=6, Accuracy=0.2014"
   ]
  },
  {
   "cell_type": "code",
   "execution_count": null,
   "metadata": {},
   "outputs": [],
   "source": []
  }
 ],
 "metadata": {
  "kernelspec": {
   "display_name": "Python 3",
   "language": "python",
   "name": "python3"
  },
  "language_info": {
   "codemirror_mode": {
    "name": "ipython",
    "version": 3
   },
   "file_extension": ".py",
   "mimetype": "text/x-python",
   "name": "python",
   "nbconvert_exporter": "python",
   "pygments_lexer": "ipython3",
   "version": "3.8.5"
  }
 },
 "nbformat": 4,
 "nbformat_minor": 2
}
