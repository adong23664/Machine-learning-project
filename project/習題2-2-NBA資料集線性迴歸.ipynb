{
 "cells": [
  {
   "cell_type": "markdown",
   "metadata": {},
   "source": [
    "## 習題2-2-NBA資料集線性迴歸\n",
    "### 設計說明：\n",
    "1. 請使用線性迴歸預測方式撰寫程式，讀取NBApoints.csv，此資料收集了NBA球員的資訊。\n",
    "2. NBApoints.csv其中每一行都包含用逗號分隔的字串格式等共30個欄位，資料集的欄位詳細說明如下：\n",
    "\n",
    "資料名\t|英文全名|含義 |資料名\t|英文全名|含義\n",
    "----|------|----|----|------|----\n",
    "Rk |Rank\t|排名|Player |Player |球員姓名\n",
    "Pos |Position |所打的位置 |Age |Age |球員年齡\n",
    "Tm |Team |球隊 |G |Games\t|參與的比賽場數（都為82場）\n",
    "GS |Games Start |先發比賽場數|MP |Minutes Played\t|平均每場比賽進行的時間(分鐘)\n",
    "FG|Field Goals\t|投球命中次數|FGA|Field Goal Attempts\t|投射次數\n",
    "FG%|Field Goal Percentage\t|投球命中率|3P|3-Point Field Goals\t|三分球命中次數\n",
    "3PA|3-Point Field Goal Attempts\t|三分球投射次數|3P%|3-Point Field Goal Percentage\t|三分球命中率\n",
    "2P|2-Point Field Goals\t|二分球命中次數|2PA|2-point Field Goal Attempts\t|二分球投射次數\n",
    "2P%|2-Point Field Goal Percentage\t|二分球命中率|eFG%|effective field goal percentage |有效命中率\n",
    "FT|Free Throws\t|罰球命中次數|FTA|Free Throw Attempts\t|罰球投射次數\n",
    "FT%|Free Throw Percentage\t|罰球命中率|ORB|Offensive Rebounds\t|進攻籃板球\n",
    "DRB|Defensive Rebounds\t|防守籃板球|TRB|Total Rebounds\t|籃板球總數\n",
    "AST|Assists\t|助攻|STL|Steals\t|偷球(抄截)\n",
    "BLK |Blocks\t|封阻(火鍋)|TOV |Turnovers\t|失誤\n",
    "PF |Personal Fouls\t|個人犯規|PTS |Points\t|得分\n",
    "3. 請將Pos欄位及Tm等非數值欄位資料轉換為數值，以利進行後續處理。某些欄位可能有遺漏值（missing value），請直接刪除這些欄位有遺漏之資料。\n",
    "4. 接著建立機器學習模型並預測三分球命中次數(3P)，以全部欄位(3P, 3PA, 3P%三個欄位除外)進行訓練。\n",
    "5. 運用sklearn.linear_model.score，計算出R-squared與P-value。\n",
    "### 請依序回答下列問題：\n",
    "\n",
    "\n",
    "1. 請填入R-squared 之值的模型解釋力（四捨五入取至小數點後第四位）？\n",
    "2. 檢定變數的顯著性，以該欄位的 P-value （P值）是否小於 0.05（信心水準 95%）來判定。請問有哪些欄位的P值顯著？\n",
    "3. 若將新機器學習模型的特徵欄位改為前題所得的顯著欄位中最小的5個欄位以預測三分球命中次數(3P)，請填入此時R-squared 之值的模型解釋力（四捨五入取至小數點後第四位）？"
   ]
  },
  {
   "cell_type": "code",
   "execution_count": 17,
   "metadata": {},
   "outputs": [
    {
     "name": "stdout",
     "output_type": "stream",
     "text": [
      "R_squared值=  0.9973\n",
      "f_regresstion\n",
      "\n",
      "P值= [6.51097938e-22 1.96744580e-01 1.99594863e-01 2.67968881e-13\n",
      " 1.99168316e-18 2.62508861e-37 4.66228401e-31 2.46268055e-44\n",
      " 3.64466719e-04 2.86812734e-05 5.31892309e-07 4.59041183e-02\n",
      " 2.43327454e-06 1.01241406e-18 1.45797344e-11 7.91456381e-13\n",
      " 5.08147693e-07 6.15230996e-03 6.72263513e-01 8.60954746e-20\n",
      " 7.49685239e-26 2.55619704e-03 7.70746416e-20 1.93304432e-07\n",
      " 5.25346244e-43]\n",
      "\n",
      "P值最小的5個欄位是 [2.4626805491839585e-44, 5.253462440537579e-43, 2.6250886096683576e-37, 4.662284011930287e-31, 7.496852385153851e-26]\n"
     ]
    }
   ],
   "source": [
    "# 導入所需套件\n",
    "import heapq\n",
    "import pandas as pd\n",
    "import numpy as np\n",
    "from sklearn import preprocessing, linear_model\n",
    "from sklearn.linear_model import LinearRegression\n",
    "from sklearn.feature_selection import f_regression\n",
    "\n",
    "# 匯入原始資料並檢視相關資訊\n",
    "NBApoints_data= pd.read_csv(\"NBApoints.csv\")\n",
    "NBApoints_data.dropna(axis=0,inplace=True)\n",
    "# 將Pos欄位及Tm欄位資料轉換為數值\n",
    "label_encoder_conver = preprocessing.LabelEncoder()\n",
    "Pos_encoder_value = label_encoder_conver.fit_transform(NBApoints_data[\"Pos\"])\n",
    "\n",
    "label_encoder_conver = preprocessing.LabelEncoder()\n",
    "Tm_encoder_value = label_encoder_conver.fit_transform(NBApoints_data[\"Tm\"])\n",
    "\n",
    "# 產生訓練資料集，建立模型與訓練\n",
    "train_X = pd.DataFrame([Pos_encoder_value,Tm_encoder_value,NBApoints_data[\"Age\"],\n",
    "                        NBApoints_data[\"G\"],NBApoints_data[\"GS\"],NBApoints_data[\"MP\"],\n",
    "                        NBApoints_data[\"FG\"],NBApoints_data[\"FGA\"],NBApoints_data[\"FG%\"],\n",
    "                        NBApoints_data[\"2P\"],NBApoints_data[\"2PA\"],NBApoints_data[\"2P%\"],\n",
    "                        NBApoints_data[\"eFG%\"],NBApoints_data[\"FT\"],NBApoints_data[\"FTA\"],\n",
    "                        NBApoints_data[\"FT%\"],NBApoints_data[\"ORB\"],NBApoints_data[\"DRB\"],\n",
    "                        NBApoints_data[\"TRB\"],NBApoints_data[\"AST\"],NBApoints_data[\"STL\"],\n",
    "                        NBApoints_data[\"BLK\"],NBApoints_data[\"TOV\"],NBApoints_data[\"PF\"],\n",
    "                        NBApoints_data[\"PS/G\"]]).T\n",
    "                        \n",
    "NBApoints_linear_model = LinearRegression()\n",
    "NBApoints_linear_model.fit(train_X, NBApoints_data[\"3P\"])\n",
    "# 計算R-squared與P-value\n",
    "r_squared = NBApoints_linear_model.score(train_X, NBApoints_data[\"3P\"])\n",
    "print('R_squared值=',\"% .4f\" % r_squared)\n",
    "\n",
    "print(\"f_regresstion\\n\")\n",
    "\n",
    "print(\"P值=\",f_regression(train_X, NBApoints_data[\"3P\"])[1])\n",
    "\n",
    "ans = f_regression(train_X, NBApoints_data[\"3P\"])[1]\n",
    "ans1 = heapq.nsmallest(5, ans)\n",
    "print()\n",
    "print(\"P值最小的5個欄位是\",ans1)"
   ]
  },
  {
   "cell_type": "markdown",
   "metadata": {},
   "source": [
    "因此有下列欄位的P值顯著\n",
    "Pos, G, GS, MP, FG, FGA, FG%, 2P, 2PA, 2P%, eFG%, FT, FTA, FT%, ORB, DRB, AST, STL, BLK, TOV, PF, PS/G\n",
    "\n",
    "其中P值最小的5個欄位是\n",
    "1. FGA 2.46268055e-44\n",
    "2. PS/G 5.25346244e-43\n",
    "3. MP 2.62508861e-37\n",
    "4. FG 4.66228401e-31\n",
    "5. STL 7.49685239e-26"
   ]
  },
  {
   "cell_type": "code",
   "execution_count": 2,
   "metadata": {},
   "outputs": [
    {
     "name": "stdout",
     "output_type": "stream",
     "text": [
      "R_squared值=  0.6143\n",
      "f_regresstion\n",
      "\n",
      "P值= [2.62508861e-37 4.66228401e-31 2.46268055e-44 7.49685239e-26\n",
      " 5.25346244e-43]\n"
     ]
    }
   ],
   "source": [
    "# 導入所需套件\n",
    "import pandas as pd\n",
    "import numpy as np\n",
    "from sklearn import preprocessing, linear_model\n",
    "from sklearn.linear_model import LinearRegression\n",
    "from sklearn.feature_selection import f_regression\n",
    "\n",
    "# 匯入原始資料並檢視相關資訊\n",
    "NBApoints_data= pd.read_csv(\"NBApoints.csv\")\n",
    "NBApoints_data.dropna(axis=0,inplace=True)\n",
    "# 將Pos欄位及Tm欄位資料轉換為數值\n",
    "label_encoder_conver = preprocessing.LabelEncoder()\n",
    "Pos_encoder_value = label_encoder_conver.fit_transform(NBApoints_data[\"Pos\"])\n",
    "\n",
    "label_encoder_conver = preprocessing.LabelEncoder()\n",
    "Tm_encoder_value = label_encoder_conver.fit_transform(NBApoints_data[\"Tm\"])\n",
    "\n",
    "# 產生訓練資料集，建立模型與訓練\n",
    "train_X = pd.DataFrame([NBApoints_data[\"MP\"],NBApoints_data[\"FG\"],NBApoints_data[\"FGA\"],\n",
    "                        NBApoints_data[\"STL\"],NBApoints_data[\"PS/G\"]]).T\n",
    "                        \n",
    "NBApoints_linear_model = LinearRegression()\n",
    "NBApoints_linear_model.fit(train_X, NBApoints_data[\"3P\"])\n",
    "# 計算R-squared與P-value\n",
    "r_squared = NBApoints_linear_model.score(train_X, NBApoints_data[\"3P\"])\n",
    "print('R_squared值=',\"% .4f\" % r_squared)\n",
    "\n",
    "print(\"f_regresstion\\n\")\n",
    "print(\"P值=\",f_regression(train_X, NBApoints_data[\"3P\"])[1])"
   ]
  }
 ],
 "metadata": {
  "kernelspec": {
   "display_name": "Python 3",
   "language": "python",
   "name": "python3"
  },
  "language_info": {
   "codemirror_mode": {
    "name": "ipython",
    "version": 3
   },
   "file_extension": ".py",
   "mimetype": "text/x-python",
   "name": "python",
   "nbconvert_exporter": "python",
   "pygments_lexer": "ipython3",
   "version": "3.8.5"
  }
 },
 "nbformat": 4,
 "nbformat_minor": 2
}
