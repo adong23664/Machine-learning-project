{
 "cells": [
  {
   "cell_type": "code",
   "execution_count": 10,
   "metadata": {},
   "outputs": [],
   "source": [
    "# 導入需要的套件\n",
    "import math\n",
    "import numpy as np\n",
    "from sklearn.cluster import DBSCAN\n",
    "from sklearn import metrics\n",
    "\n",
    "# 載入資料\n",
    "input_file = ('data_perf.txt')\n",
    "x = []\n",
    "with open(input_file, 'r') as f:\n",
    "    for line in f.readlines():\n",
    "        data = [float(i) for i in line.split(',')]\n",
    "        x.append(data)\n",
    "\n",
    "X = np.array(x)"
   ]
  },
  {
   "cell_type": "code",
   "execution_count": 23,
   "metadata": {},
   "outputs": [],
   "source": [
    "# 找最佳的epsilon\n",
    "eps_grid = np.linspace(0.3, 1.2, num=100)\n",
    "silhouette_scores = []\n",
    "eps_best = eps_grid[0]\n",
    "silhouette_score_max = -1\n",
    "labels_best = None\n",
    "for eps in eps_grid:\n",
    "    # DBSCAN分群模型\n",
    "    model = DBSCAN(eps=eps, min_samples=5).fit(X)\n",
    "\n",
    "    # 提取標籤\n",
    "    labels = model.labels_\n",
    "\n",
    "    # 提取性能指標\n",
    "    silhouette_score = round(metrics.silhouette_score(X, labels), 4)\n",
    "    silhouette_scores.append(silhouette_score)\n",
    "\n",
    "#     print(\"Epsilon:\", eps, \" --> silhouette score:\", silhouette_score)\n",
    "\n",
    "    if silhouette_score > silhouette_score_max:\n",
    "        silhouette_score_max = silhouette_score\n",
    "        eps_best = eps\n",
    "        model_best = model\n",
    "        labels_best = labels"
   ]
  },
  {
   "cell_type": "code",
   "execution_count": 22,
   "metadata": {},
   "outputs": [
    {
     "name": "stdout",
     "output_type": "stream",
     "text": [
      "Best epsilon = 0.7181\n",
      "silhouette_score = 0.6371\n",
      "Estimated number of clusters = 5\n"
     ]
    }
   ],
   "source": [
    "# 最佳參數\n",
    "print(\"Best epsilon =\", math.floor(eps_best* 10000)/10000)\n",
    "print(\"silhouette_score =\", silhouette_score_max)\n",
    "\n",
    "# 最佳epsilon的相關模型和標籤\n",
    "model = model_best \n",
    "labels = labels_best\n",
    "\n",
    "# 檢查標籤中未分配的數據點\n",
    "offset = 0\n",
    "if -1 in labels:\n",
    "    offset = 1\n",
    "\n",
    "# 數據中的群數\n",
    "num_clusters = len(set(labels)) - offset \n",
    "\n",
    "print(\"Estimated number of clusters =\", num_clusters)\n",
    "\n",
    "# 從訓練後的模型中提取核心樣本\n",
    "mask_core = np.zeros(labels.shape, dtype=np.bool)\n",
    "mask_core[model.core_sample_indices_] = True"
   ]
  },
  {
   "cell_type": "code",
   "execution_count": 25,
   "metadata": {},
   "outputs": [
    {
     "name": "stdout",
     "output_type": "stream",
     "text": [
      "silhouette score =  0.6407\n"
     ]
    }
   ],
   "source": [
    "# 載入資料\n",
    "input_file = ('data_perf_add.txt')\n",
    "x = []\n",
    "with open(input_file, 'r') as f:\n",
    "    for line in f.readlines():\n",
    "        data = [float(i) for i in line.split(',')]\n",
    "        x.append(data)\n",
    "X = np.array(x)\n",
    "# 找最佳的epsilon\n",
    "eps_grid = np.linspace(0.3, 1.2, num=100)\n",
    "silhouette_scores = []\n",
    "eps_best = eps_grid[0]\n",
    "silhouette_score_max = -1\n",
    "labels_best = None\n",
    "for eps in eps_grid:\n",
    "    # 訓練DBSCAN分群模型\n",
    "    model = DBSCAN(eps=eps, min_samples=5).fit(X)\n",
    "    # 提取標籤\n",
    "    labels = model.labels_\n",
    "    # 提取性能指標\n",
    "    silhouette_score = round(metrics.silhouette_score(X, labels), 4)\n",
    "    silhouette_scores.append(silhouette_score)\n",
    "#     print(\"Epsilon:\", eps, \" --> silhouette score:\", silhouette_score)\n",
    "    if silhouette_score > silhouette_score_max:\n",
    "        silhouette_score_max = silhouette_score\n",
    "        eps_best = eps\n",
    "        model_best = model\n",
    "        labels_best = labels\n",
    "# 最佳參數\n",
    "# print(\"Best epsilon =\", eps_best)\n",
    "print(\"silhouette score = \", silhouette_score_max)\n",
    "# 最佳epsilon的相關模型和標籤\n",
    "model = model_best \n",
    "labels = labels_best\n",
    "# 檢查標籤中未分配的數據點\n",
    "offset = 0\n",
    "if -1 in labels:\n",
    "    offset = 1\n",
    "# 數據中的群數\n",
    "num_clusters = len(set(labels)) - offset \n",
    "\n",
    "# print(\"Estimated number of clusters =\", num_clusters)\n",
    "\n",
    "# 從訓練後的模型中提取核心樣本\n",
    "mask_core = np.zeros(labels.shape, dtype=np.bool)\n",
    "mask_core[model.core_sample_indices_] = True"
   ]
  },
  {
   "cell_type": "code",
   "execution_count": null,
   "metadata": {},
   "outputs": [],
   "source": []
  }
 ],
 "metadata": {
  "kernelspec": {
   "display_name": "Python 3",
   "language": "python",
   "name": "python3"
  },
  "language_info": {
   "codemirror_mode": {
    "name": "ipython",
    "version": 3
   },
   "file_extension": ".py",
   "mimetype": "text/x-python",
   "name": "python",
   "nbconvert_exporter": "python",
   "pygments_lexer": "ipython3",
   "version": "3.8.5"
  }
 },
 "nbformat": 4,
 "nbformat_minor": 2
}
