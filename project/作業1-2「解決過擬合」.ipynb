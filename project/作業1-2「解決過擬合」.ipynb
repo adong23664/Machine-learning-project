{
 "cells": [
  {
   "cell_type": "markdown",
   "metadata": {},
   "source": [
    "# 作業1-2「解決過擬合」"
   ]
  },
  {
   "cell_type": "markdown",
   "metadata": {},
   "source": [
    "# 設計說明\n",
    "乳癌預測資料集，有下列屬性：\n",
    "    – 身份證號碼\n",
    "\n",
    "    – 診斷(M =惡性，B =良性)\n",
    "\n",
    "    – 為每個細胞核計算十個浮點數值特徵\n",
    "\n",
    "    – 為每個圖像計算這些特徵的平均值，標準差和“最差”或最大(三個最大值的平均值)，從而得到30個特徵。\n",
    "例如，欄位3是平均半徑，欄位13是半徑標準差，欄位23是最差半徑。\n",
    "\n",
    "    – 所有值都編碼成四位有效數字。\n",
    "\n",
    "乳癌預測資料集，第3~32欄位浮點數值特徵：\n",
    "    – a.半徑(從中心到周長上的點的距離的平均值)\n",
    "\n",
    "    – b.紋理(灰度值的標準偏差)\n",
    "    – c.周長 \n",
    "\n",
    "    – d.面積\n",
    "\n",
    "    – e.平滑度(半徑長度的局部變化) \n",
    "\n",
    "乳癌預測資料集，第3~32欄位浮點數值特徵：\n",
    "    – f.緊湊度(周長^ 2 /面積-1.0)\n",
    "\n",
    "    – g.凹度(輪廓凹部的嚴重程度)\n",
    "\n",
    "    – h.凹點(輪廓的凹部分的數量)    \n",
    "\n",
    "    – i.對稱\n",
    "\n",
    "    – j.分形維數(“邊界線近似”-1)\n",
    "\n",
    "驗證曲線用來確定用於變化參數值的訓練和測試分數。\n",
    "請使用驗證曲線撰寫程式，讀取乳癌預測資料集。\n",
    "將診斷欄位編碼成數值，以便處理。\n",
    "M =惡性/編碼成1，B =良性/編碼成0。\n",
    "建立管道:包含標準化與羅吉斯迴歸模式。\n",
    "分割訓練資料集與測試資料集。\n",
    "建立驗證曲線-羅吉斯迴歸模型。\n",
    "請依序回答下列問題\n",
    "請填入最大的test_scores平均值（計算至小數點第四位後無條件捨去） ？\n",
    "請填入在最大的test_scores平均值時， “C”此一超參數的值？"
   ]
  },
  {
   "cell_type": "code",
   "execution_count": 1,
   "metadata": {},
   "outputs": [],
   "source": [
    "# 導入所需套件\n",
    "import numpy as np\n",
    "import pandas as pd\n",
    "from sklearn.model_selection import train_test_split\n",
    "from sklearn.model_selection import validation_curve\n",
    "from sklearn.preprocessing import LabelEncoder\n",
    "from sklearn.preprocessing import StandardScaler\n",
    "from sklearn.decomposition import PCA\n",
    "from sklearn.linear_model import LogisticRegression\n",
    "from sklearn.pipeline import make_pipeline"
   ]
  },
  {
   "cell_type": "code",
   "execution_count": 2,
   "metadata": {},
   "outputs": [
    {
     "data": {
      "text/plain": [
       "array([1, 0], dtype=int64)"
      ]
     },
     "execution_count": 2,
     "metadata": {},
     "output_type": "execute_result"
    }
   ],
   "source": [
    "# 載入乳癌預測資料集\n",
    "df = pd.read_csv('wdbc.data', header=None)\n",
    "# 將診斷欄位編碼成數值，以便處理\n",
    "X = df.loc[:, 2:].values\n",
    "y = df.loc[:, 1].values\n",
    "le = LabelEncoder()\n",
    "y = le.fit_transform(y)\n",
    "le.classes_\n",
    "\n",
    "# M =惡性/編碼成1，B =良性/編碼成0\n",
    "le.transform(['M', 'B'])"
   ]
  },
  {
   "cell_type": "code",
   "execution_count": 3,
   "metadata": {},
   "outputs": [],
   "source": [
    "# 建立管道\n",
    "pipe_lr = make_pipeline(StandardScaler(),\n",
    "                        LogisticRegression(penalty='l2', random_state=1,\n",
    "                                           solver='lbfgs', max_iter=10000))"
   ]
  },
  {
   "cell_type": "code",
   "execution_count": 4,
   "metadata": {},
   "outputs": [],
   "source": [
    "# 分割訓練資料集與測試資料集\n",
    "X_train, X_test, y_train, y_test = \\\n",
    "    train_test_split(X, y, \n",
    "                     test_size=0.20,\n",
    "                     stratify=y,\n",
    "                     random_state=1)"
   ]
  },
  {
   "cell_type": "code",
   "execution_count": 12,
   "metadata": {},
   "outputs": [
    {
     "name": "stdout",
     "output_type": "stream",
     "text": [
      "C= 0.001 test_scores_mean= 0.8857487922705316\n",
      "C= 0.01 test_scores_mean= 0.9428985507246377\n",
      "C= 0.1 test_scores_mean= 0.9758937198067633\n",
      "C= 1.0 test_scores_mean= 0.9802415458937197\n",
      "C= 10.0 test_scores_mean= 0.9714975845410627\n",
      "C= 100.0 test_scores_mean= 0.9560869565217391\n",
      "\n",
      "最大的test_scores平均值0.9802\n",
      "最大的test_scores平均值,C的超參數值為1.0\n"
     ]
    }
   ],
   "source": [
    "# 建立驗證曲線\n",
    "param_range = [0.001, 0.01, 0.1, 1.0, 10.0, 100.0]\n",
    "train_scores, test_scores = validation_curve(\n",
    "                estimator=pipe_lr, \n",
    "                X=X_train, \n",
    "                y=y_train, \n",
    "                param_name='logisticregression__C', \n",
    "                param_range=param_range,\n",
    "                cv=10)\n",
    "\n",
    "for i in range(len(param_range)):\n",
    "    print(\"C=\",param_range[i],\"test_scores_mean=\",test_scores[i,].mean())  \n",
    "print()\n",
    "print(f\"最大的test_scores平均值{test_scores[3].mean():.4f}\")\n",
    "print(f\"最大的test_scores平均值,C的超參數值為{param_range[3]}\")"
   ]
  },
  {
   "cell_type": "code",
   "execution_count": null,
   "metadata": {},
   "outputs": [],
   "source": []
  }
 ],
 "metadata": {
  "anaconda-cloud": {},
  "kernelspec": {
   "display_name": "Python 3",
   "language": "python",
   "name": "python3"
  },
  "language_info": {
   "codemirror_mode": {
    "name": "ipython",
    "version": 3
   },
   "file_extension": ".py",
   "mimetype": "text/x-python",
   "name": "python",
   "nbconvert_exporter": "python",
   "pygments_lexer": "ipython3",
   "version": "3.8.5"
  },
  "toc": {
   "nav_menu": {},
   "number_sections": true,
   "sideBar": true,
   "skip_h1_title": false,
   "title_cell": "Table of Contents",
   "title_sidebar": "Contents",
   "toc_cell": false,
   "toc_position": {},
   "toc_section_display": true,
   "toc_window_display": false
  }
 },
 "nbformat": 4,
 "nbformat_minor": 4
}
