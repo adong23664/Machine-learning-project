{
 "cells": [
  {
   "cell_type": "code",
   "execution_count": 1,
   "metadata": {},
   "outputs": [],
   "source": [
    "# 導入所需的套件\n",
    "import pandas as pd\n",
    "import numpy as np\n",
    "from sklearn import datasets\n",
    "from sklearn.model_selection import train_test_split\n",
    "from sklearn.linear_model import LinearRegression\n",
    "from sklearn.metrics import mean_squared_error, r2_score #計算MSE/R2更快方式\n",
    "\n",
    "# 載入原始資料\n",
    "diabetes=datasets.load_diabetes()"
   ]
  },
  {
   "cell_type": "code",
   "execution_count": 2,
   "metadata": {},
   "outputs": [
    {
     "data": {
      "text/plain": [
       "LinearRegression()"
      ]
     },
     "execution_count": 2,
     "metadata": {},
     "output_type": "execute_result"
    }
   ],
   "source": [
    "#不分割資料集下建立與訓練模型\n",
    "x=pd.DataFrame(diabetes.data, columns=diabetes.feature_names)\n",
    "target=pd.DataFrame(diabetes.target, columns=[\"MEDV\"])\n",
    "y=target[\"MEDV\"]\n",
    "lm1=LinearRegression()\n",
    "lm1.fit(x, y)"
   ]
  },
  {
   "cell_type": "code",
   "execution_count": 3,
   "metadata": {},
   "outputs": [
    {
     "name": "stdout",
     "output_type": "stream",
     "text": [
      "Total number of examples\n",
      "MSE= 2859.6904\n",
      "R-squared= 0.5177\n"
     ]
    }
   ],
   "source": [
    "# 不分割資料集下求取MSE與R-squared\n",
    "pred1=lm1.predict(x)\n",
    "MSE1=np.mean((pred1-y)**2)\n",
    "print('Total number of examples')\n",
    "print('MSE=', \"%.4f\" %MSE1)\n",
    "print('R-squared=', \"%.4f\" %lm1.score(x, y))\n",
    "#也可以用下面方法直接求MSE\n",
    "#print('MSE= %.4f'% mean_squared_error(pred1, y))"
   ]
  },
  {
   "cell_type": "code",
   "execution_count": 8,
   "metadata": {},
   "outputs": [
    {
     "name": "stdout",
     "output_type": "stream",
     "text": [
      "MSE = 2278.7643 時值最小，i = 6\n",
      "R2 = 0.6853 時值最大，i = 6\n"
     ]
    }
   ],
   "source": [
    "# 分割成訓練資料集及測試資料集，其中測試資料集佔i/100(i=1~99)，\n",
    "# 並設定亂數種子為100後建立與訓練模型2MaxIndex = 0\n",
    "MSEMin = 999999\n",
    "MSEMinIndex = 0\n",
    "r2Max = 0\n",
    "r2MaxIndex = 0\n",
    "\n",
    "for i in range(1,100):\n",
    "    xTrain2, xTest2, yTrain2, yTest2=train_test_split(x, y, \n",
    "                                    test_size=i/100, random_state=100)\n",
    "    lm2=LinearRegression()\n",
    "    lm2.fit(xTrain2, yTrain2)\n",
    "    pred2_train=lm2.predict(xTrain2)\n",
    "    MSE2_train=np.mean((yTrain2-pred2_train)**2)\n",
    "    pred2_test=lm2.predict(xTest2)\n",
    "    MSE2_test=np.mean((yTest2-pred2_test)**2)\n",
    "    if MSE2_test < MSE1 and lm2.score(xTest2, yTest2) > lm1.score(x, y):\n",
    "        if MSE2_test < MSEMin:\n",
    "            MSEMin = MSE2_test\n",
    "            MSEMinIndex = i\n",
    "        if  lm2.score(xTest2, yTest2) > r2Max:\n",
    "            r2Max = lm2.score(xTest2, yTest2)\n",
    "            r2MaxIndex = i\n",
    "#         print('Split:', \"%d\" % i)\n",
    "        #print('train MSE=', \"%.4f\" % MSE2_train)\n",
    "#         print('test MSE=', \"%.4f\" % MSE2_test)\n",
    "        #print('train R-squared=', \"%.4f\" % lm2.score(xTrain2, yTrain2))\n",
    "#         print('test R-squared=', \"%.4f\" % lm2.score(xTest2, yTest2))\n",
    "print(f\"MSE = {MSEMin:.4f} 時值最小，i = {MSEMinIndex}\")\n",
    "print(f\"R2 = {r2Max:.4f} 時值最大，i = {MSEMinIndex}\")"
   ]
  },
  {
   "cell_type": "code",
   "execution_count": null,
   "metadata": {},
   "outputs": [],
   "source": []
  }
 ],
 "metadata": {
  "kernelspec": {
   "display_name": "Python 3",
   "language": "python",
   "name": "python3"
  },
  "language_info": {
   "codemirror_mode": {
    "name": "ipython",
    "version": 3
   },
   "file_extension": ".py",
   "mimetype": "text/x-python",
   "name": "python",
   "nbconvert_exporter": "python",
   "pygments_lexer": "ipython3",
   "version": "3.8.5"
  }
 },
 "nbformat": 4,
 "nbformat_minor": 2
}
