{
 "cells": [
  {
   "cell_type": "markdown",
   "metadata": {
    "id": "LvNRe2b33H8M"
   },
   "source": [
    "## 2-8_103 汽車品質預測\n",
    "（一）、設計說明：\n",
    "1. 請使用隨機森林分類（Random Forest Classifier），撰寫程式，讀取汽車評估資料集cardata.txt，資料集中的前六個屬性為input_data，用來進行對第七個屬性（汽車可接受度）的分類，其取值範圍如下，每一列都包含由逗號分隔的單字清單，請將之解析分割。\n",
    "\n",
    "欄位名稱\t|欄位中文\t|說明\n",
    " :---------| :-------------|:------------------------------------\n",
    "buying\t|買價\t|取值範圍是vhigh、 high、 med、 low\n",
    "maint\t|維修保養價格\t|取值範圍是vhigh、 high、 med、 low\n",
    "doors\t|門數\t|取值範圍是2、 3、 4、 5等，5門含5門以上資料表示成5more\n",
    "persons\t|載人量\t|取值範圍是2、 4等，超過4人資料表示成more\n",
    "lug_boot\t|行李箱的大小\t|取值範圍是small、 med、 big\n",
    "safety\t|安全\t|取值範圍是low、 med、 high\n",
    "car\t|汽車可接受度\t|unacc為不可接受，acc為可接受， good為良好，vgood為非常好\n",
    "\n",
    "\n",
    "2. 請用三折交叉驗證（three-fold cross-validation，將數據分三組，輪換著用其中兩組資料驗證分類器）來計算分類器的準確性。參數設定n_estimators=200, max_depth=8, random_state=7。\n",
    "3. input_data = ['high', 'low', '2', 'more', 'med', 'high']（前面六個屬性），依據輸入值預測輸入類別Output class。\n",
    "4. 請用與前相同之分類器進行\"n_estimators\"超參數最佳化，參數設定max_depth=8, random_state=7, parameter_grid=np.linspace(25, 200, 8).astype(int)，且改用cv=5。\n",
    "\n",
    "\n",
    "（二）、請依序回答下列問題：\n",
    "1. 請填入分類器的準確度Accuracy of the classifier為多少%（不需填入%，四捨五入計算至小數點後第二位）？\n",
    "2. input_data = ['high', 'low', '2', 'more', 'med', 'high']（前面六個屬性）。請依據輸入值，填入預測類別的選項？\n",
    "(A) unacc\n",
    "(B) acc\n",
    "(C) good\n",
    "(D) vgood\n",
    "\n",
    "3. 請填入\"n_estimators\"此一超參數的Training scores第一組第一筆數值（計算至小數點第四位後無條件捨去）？\n"
   ]
  },
  {
   "cell_type": "code",
   "execution_count": 1,
   "metadata": {
    "id": "Ll_xaoo83H8R"
   },
   "outputs": [],
   "source": [
    "# 導入需要用到的套件\n",
    "import numpy as np\n",
    "from sklearn import preprocessing  #交叉驗證\n",
    "from sklearn.ensemble import RandomForestClassifier\n",
    "from sklearn import model_selection\n",
    "from sklearn.model_selection import validation_curve\n",
    "#import matplotlib.pyplot as plt"
   ]
  },
  {
   "cell_type": "code",
   "execution_count": 3,
   "metadata": {
    "id": "YJWC2lio3H8U"
   },
   "outputs": [],
   "source": [
    "# 載入汽車資料集\n",
    "input_file = 'cardata.txt'\n",
    "X = []\n",
    "y = []\n",
    "count = 0\n",
    "with open(input_file, 'r') as f:\n",
    "    for line in f.readlines():\n",
    "        data = line[:-1].split(',')\n",
    "        X.append(data)\n",
    "X = np.array(X)"
   ]
  },
  {
   "cell_type": "code",
   "execution_count": 4,
   "metadata": {
    "id": "VLxBetrp3H8X"
   },
   "outputs": [],
   "source": [
    "# 將字串資料轉換為數值資料\n",
    "label_encoder = [] \n",
    "X_encoded = np.empty(X.shape)\n",
    "for i, item in enumerate(X[0]):\n",
    "    label_encoder.append(preprocessing.LabelEncoder())\n",
    "    X_encoded[:, i] = label_encoder[-1].fit_transform(X[:, i])\n",
    "\n",
    "X = X_encoded[:, :-1].astype(int)\n",
    "y = X_encoded[:, -1].astype(int)"
   ]
  },
  {
   "cell_type": "code",
   "execution_count": 5,
   "metadata": {
    "id": "2rSYI-vJ3H8a"
   },
   "outputs": [
    {
     "data": {
      "text/plain": [
       "RandomForestClassifier(max_depth=8, n_estimators=200, random_state=7)"
      ]
     },
     "execution_count": 5,
     "metadata": {},
     "output_type": "execute_result"
    }
   ],
   "source": [
    "# 建立隨機森林分類器，並進行訓練\n",
    "params = {'n_estimators': 200, 'max_depth': 8, 'random_state': 7}\n",
    "classifier = RandomForestClassifier(**params)\n",
    "classifier.fit(X, y)"
   ]
  },
  {
   "cell_type": "code",
   "execution_count": 6,
   "metadata": {
    "id": "QVb7pDAG3H8d"
   },
   "outputs": [
    {
     "name": "stdout",
     "output_type": "stream",
     "text": [
      "Accuracy of the classifier=77.66%\n"
     ]
    }
   ],
   "source": [
    "# 進行交叉驗證\n",
    "from sklearn import model_selection\n",
    "from sklearn.model_selection import validation_curve\n",
    "accuracy = model_selection.cross_val_score(classifier, \n",
    "        X, y, scoring='accuracy', cv=3)\n",
    "print(\"Accuracy of the classifier=\" + str(round(100*accuracy.mean(), 2)) + \"%\")"
   ]
  },
  {
   "cell_type": "code",
   "execution_count": 7,
   "metadata": {
    "id": "4vm9a8_K3bn1"
   },
   "outputs": [
    {
     "name": "stdout",
     "output_type": "stream",
     "text": [
      "Accuracy of the classifier=83.23%\n"
     ]
    }
   ],
   "source": [
    "# 進行交叉驗證\n",
    "accuracy = model_selection.cross_val_score(classifier, \n",
    "        X, y, scoring='accuracy', cv=10)\n",
    "print(\"Accuracy of the classifier=\" + str(round(100*accuracy.mean(), 2)) + \"%\")"
   ]
  },
  {
   "cell_type": "code",
   "execution_count": 8,
   "metadata": {
    "id": "Tu4UOmv53H8g"
   },
   "outputs": [
    {
     "name": "stdout",
     "output_type": "stream",
     "text": [
      "Output class= acc\n"
     ]
    }
   ],
   "source": [
    "# 測試單個資料實例上的編碼\n",
    "input_data = ['high', 'low', '2', 'more', 'med', 'high']\n",
    "\n",
    "input_data_encoded = [-1] * len(input_data)\n",
    "for i, item in enumerate(input_data):\n",
    "     input_data_encoded[i] = int(label_encoder[i].transform([input_data[i]]))\n",
    "\n",
    "input_data_encoded = np.array(input_data_encoded)\n",
    "\n",
    "\n",
    "# Predict and print output for a particular datapoint\n",
    "output_class = classifier.predict([input_data_encoded])\n",
    "print(\"Output class=\", label_encoder[-1].inverse_transform(output_class)[0])"
   ]
  },
  {
   "cell_type": "code",
   "execution_count": 8,
   "metadata": {
    "id": "h5HUMLfE3H8j"
   },
   "outputs": [
    {
     "name": "stderr",
     "output_type": "stream",
     "text": [
      "C:\\Users\\User\\Anaconda3\\lib\\site-packages\\sklearn\\utils\\validation.py:70: FutureWarning: Pass param_name=n_estimators, param_range=[ 25  50  75 100 125 150 175 200] as keyword args. From version 0.25 passing these as positional arguments will result in an error\n",
      "  FutureWarning)\n"
     ]
    },
    {
     "name": "stdout",
     "output_type": "stream",
     "text": [
      "##### VALIDATION CURVES #####\n",
      "\n",
      "Param: n_estimators\n",
      "Training scores:\n",
      " [[0.97467438 0.97105644 0.97105644 0.97686189 0.96529284]\n",
      " [0.97322721 0.97322721 0.97539797 0.98698482 0.96963124]\n",
      " [0.97684515 0.97467438 0.97322721 0.98770788 0.98047722]\n",
      " [0.97612156 0.97684515 0.97467438 0.98770788 0.97903109]\n",
      " [0.97467438 0.97684515 0.97539797 0.98698482 0.98047722]\n",
      " [0.97539797 0.97539797 0.97756874 0.98553868 0.97903109]\n",
      " [0.97322721 0.97612156 0.97756874 0.98553868 0.97758496]\n",
      " [0.97322721 0.97612156 0.97539797 0.98626175 0.97541576]]\n",
      "\n",
      "Param: n_estimators\n",
      "Validation scores:\n",
      " [[0.66184971 0.78612717 0.79768786 0.8057971  0.88115942]\n",
      " [0.67919075 0.80057803 0.78612717 0.7884058  0.89855072]\n",
      " [0.65317919 0.79190751 0.78612717 0.78550725 0.90434783]\n",
      " [0.63294798 0.79479769 0.76589595 0.7826087  0.91304348]\n",
      " [0.66473988 0.77745665 0.79190751 0.79130435 0.90144928]\n",
      " [0.70520231 0.77745665 0.79479769 0.79130435 0.90434783]\n",
      " [0.65028902 0.7716763  0.79479769 0.7884058  0.90434783]\n",
      " [0.66763006 0.7716763  0.79479769 0.7826087  0.89855072]]\n"
     ]
    }
   ],
   "source": [
    "\n",
    "# 驗證曲線\n",
    "\n",
    "classifier = RandomForestClassifier( max_depth= 8, random_state=7)\n",
    "\n",
    "parameter_grid = np.linspace(25, 200, 8).astype(int)\n",
    "train_scores, validation_scores = validation_curve(classifier, X, y, \n",
    "        \"n_estimators\", parameter_grid, cv=5)\n",
    "print(\"##### VALIDATION CURVES #####\")\n",
    "print(\"\\nParam: n_estimators\\nTraining scores:\\n\", train_scores)\n",
    "print(\"\\nParam: n_estimators\\nValidation scores:\\n\", validation_scores)"
   ]
  }
 ],
 "metadata": {
  "colab": {
   "collapsed_sections": [],
   "name": "05週2-5_103 汽車品質預測1091012.ipynb",
   "provenance": [
    {
     "file_id": "1zDe6nYuWDdan9xrpkmNuSfoV04ipA5Yn",
     "timestamp": 1602473467873
    }
   ]
  },
  "kernelspec": {
   "display_name": "Python 3",
   "language": "python",
   "name": "python3"
  },
  "language_info": {
   "codemirror_mode": {
    "name": "ipython",
    "version": 3
   },
   "file_extension": ".py",
   "mimetype": "text/x-python",
   "name": "python",
   "nbconvert_exporter": "python",
   "pygments_lexer": "ipython3",
   "version": "3.8.5"
  }
 },
 "nbformat": 4,
 "nbformat_minor": 1
}
