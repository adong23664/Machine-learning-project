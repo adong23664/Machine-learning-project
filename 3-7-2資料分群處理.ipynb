{
 "cells": [
  {
   "cell_type": "markdown",
   "metadata": {},
   "source": [
    "## 3-7-2資料分群處理\n",
    "（一）、設計說明：\n",
    "1. 請撰寫一程式，利用sklearn.datasets裡的make_blobs函式產生出資料。總樣本數200，樣本中心數4，資料集的標準差為0.50，隨機種子為0。(make_blobs會生成各向同性的高斯斑點以進行分群)。\n",
    "2. 請利用K-means 演算法分群（K-means Clustering）來做分群。 \n",
    "3. 使用集群內誤差平方和（kmeans.inertia_）來判斷分群數量為何值是比較恰當的，值大於90以上的納入計算。其中K-means內的參數（分群中心）初始化為「k-means++」，K-means演算法的隨機運作次數為「15」，隨機產生中心的隨機序列（random state=0），最大迭代次數為200。\n",
    "\n",
    "（二）、請依序回答下列問題：\n",
    "1. 請使用集群內誤差平方和（kmeans.inertia_）來判斷分群數量，需取值大於90以上者納入計算，可分為幾群？\n",
    "2. 承上題，只取集群內誤差平方和分數大於90以上的數據，請依據計算後之數據，填入正確的選項（選項內兩組數據需完全相同）？\n",
    "(A) [1749.6046, 94.0224]\n",
    "(B) [1774.5460, 736.9635]\n",
    "(C) [1794.0460, 304.9484]\n",
    "(D) [736.9635, 901.0224]\n",
    "\n",
    "3. 請輸入分群後最小中心點X的位置（四捨五入取至小數點後第四位）？\n",
    "4. 請輸入分群後最大中心點Y的位置（四捨五入取至小數點後第四位）？\n"
   ]
  },
  {
   "cell_type": "code",
   "execution_count": 1,
   "metadata": {},
   "outputs": [
    {
     "data": {
      "image/png": "[encoded data removed]",
      "text/plain": [
       "<Figure size 432x288 with 1 Axes>"
      ]
     },
     "metadata": {
      "needs_background": "light"
     },
     "output_type": "display_data"
    }
   ],
   "source": [
    "# 導入需要套件\n",
    "%matplotlib inline\n",
    "from matplotlib import pyplot as plt\n",
    "from sklearn.datasets import make_blobs\n",
    "from sklearn.cluster import KMeans\n",
    "\n",
    "#  載入scikit-learn資料集範例資料\n",
    "X, y = make_blobs(n_samples=200, \n",
    "                  centers=4,    #分成四群\n",
    "                  cluster_std=0.50,   #標準差\n",
    "                  random_state=0)\n",
    "plt.scatter(X[:,0], X[:,1])\n",
    "plt.show()"
   ]
  },
  {
   "cell_type": "code",
   "execution_count": 2,
   "metadata": {},
   "outputs": [
    {
     "name": "stdout",
     "output_type": "stream",
     "text": [
      "[1794.0460266445257, 736.86391422994, 304.9484842599343, 94.02242630751765, 84.45701261628774, 76.29514182274326, 68.22636236554473]\n"
     ]
    }
   ],
   "source": [
    "#inertia_集群內誤差平方和，做轉折判斷法的依據\n",
    "Wcss_data = []\n",
    "for i in range(1, 8):\n",
    "    #實作\n",
    "    kmeans = KMeans(n_clusters=i, #分i群\n",
    "                    init='k-means++', \n",
    "                    max_iter=200, \n",
    "                    n_init=15, \n",
    "                    random_state=0)\n",
    "    kmeans.fit(X)\n",
    "    Wcss_data.append(kmeans.inertia_)\n",
    "print(Wcss_data)"
   ]
  },
  {
   "cell_type": "markdown",
   "metadata": {},
   "source": [
    "可以發現：i越大，集群內誤差平方和越小\n",
    "接下來根據要求，取值大於90以上者納入計算，此時的i=4"
   ]
  },
  {
   "cell_type": "code",
   "execution_count": 3,
   "metadata": {},
   "outputs": [],
   "source": [
    "# 建立i=4的kmeans分群器\n",
    "kmeans = KMeans(n_clusters=4, \n",
    "                init='k-means++', \n",
    "                max_iter=200, \n",
    "                n_init=15, \n",
    "                random_state=0)\n",
    "kmeans_fit=kmeans.fit(X)"
   ]
  },
  {
   "cell_type": "code",
   "execution_count": 4,
   "metadata": {},
   "outputs": [
    {
     "name": "stdout",
     "output_type": "stream",
     "text": [
      "cluster_centers=\n",
      " [[-1.60782913  2.9162828 ]\n",
      " [-1.33173192  7.7400479 ]\n",
      " [ 2.06911036  0.96146833]\n",
      " [ 0.91932803  4.34824615]]\n"
     ]
    }
   ],
   "source": [
    "# 顯示各群中心點\n",
    "print(\"cluster_centers=\\n\",kmeans.cluster_centers_)"
   ]
  },
  {
   "cell_type": "code",
   "execution_count": null,
   "metadata": {},
   "outputs": [],
   "source": []
  }
 ],
 "metadata": {
  "kernelspec": {
   "display_name": "Python 3",
   "language": "python",
   "name": "python3"
  },
  "language_info": {
   "codemirror_mode": {
    "name": "ipython",
    "version": 3
   },
   "file_extension": ".py",
   "mimetype": "text/x-python",
   "name": "python",
   "nbconvert_exporter": "python",
   "pygments_lexer": "ipython3",
   "version": "3.8.5"
  }
 },
 "nbformat": 4,
 "nbformat_minor": 2
}
